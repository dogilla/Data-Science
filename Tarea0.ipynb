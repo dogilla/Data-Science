{
 "cells": [
  {
   "cell_type": "markdown",
   "metadata": {},
   "source": [
    "### Tarea 0 Seminario de Estadística I"
   ]
  },
  {
   "cell_type": "markdown",
   "metadata": {},
   "source": [
    "####  Complejidad Computacional Notación O(n) (asymptotic upper bound)"
   ]
  },
  {
   "cell_type": "markdown",
   "metadata": {},
   "source": [
    "Demuestre lo siguiente\n",
    "\n",
    "1. Si $f_1$ es $O(g_1)$ y $f_2$ es $O(g_2)$ entonces $(f_1+f_2)$ es $O(max{|g_1|,|g_2|})$\n",
    "2. Si $f_1$ es $O(g_1)$ y $f_2$ es $O(g_2)$ entonces $(f_1f_2)$ es $O(g_1g_2)$\n",
    "3. ¿Cuál es la complejidad del siguiente algoritmo(O)?\n",
    "\n",
    "for (i = 0; i < N; i++) {\n",
    "\n",
    "    for (j = 0; j < M; j++) {\n",
    "        print(i,j)\n",
    "    }\n",
    "\n",
    "}\n"
   ]
  },
  {
   "cell_type": "markdown",
   "metadata": {},
   "source": [
    "### Estadística Descriptiva"
   ]
  },
  {
   "cell_type": "markdown",
   "metadata": {},
   "source": [
    "1. Demuestre $-1 \\leq r_{XY}\\leq 1$ donde:\n",
    "$$\n",
    "r_{XY}=\\dfrac{\\sum_{i=1}^n(x_i-\\bar{x})(y_i-\\bar{y})}{\\sqrt{\\sum_{i=1}^n(x_i-\\bar{x})^2\\sum_{i=1}^n(y_i-\\bar{y})^2}}\n",
    "$$\n",
    "\n",
    "2. Demuestre que $|r_{XY} | = 1$ si y solo si existen una relación lineal entre las variables X y Y , es decir, $y_i = \\alpha + \\beta x_i  $ con $\\beta \\neq  0$"
   ]
  },
  {
   "cell_type": "markdown",
   "metadata": {},
   "source": [
    "1.Supongamos que $X$ y $Y$ son tales que $\\mathbb{E}(X)=\\mathbb{E}(Y)=0$\n",
    "y que $Var(X)=Var(Y)=1$ Entonces para cualquier valor de $\\lambda$ se cumple que:\n",
    "$$0 \\leq Var(X+\\lambda Y)=E(X+\\lambda Y)^{2}-E^{2}(X+\\lambda Y)\n",
    "= 1+2\\lambda E(XY)+\\lambda^2$$\n",
    "Usando esta expresión si $\\lambda=1$ tenemos que $E(X,Y) \\geq -1$ mientras que si $\\lambda=-1$ tenemos que $E(X,Y) \\leq 1$ Entonces aplicando este resultado a las variables aleatorias $\\frac{X-\\mu_X}{\\sigma_X}$ y $\\frac{Y-\\mu_Y}{\\sigma_Y}$ que por el TLC son centradas con media cero y varianza unitaria, entonces tenemos:\n",
    "$$-1 \\leq E\\left( \\frac{X-\\mu_X}{\\sigma_X},\\frac{Y-\\mu_Y}{\\sigma_Y}\\right)  \\leq 1$$\n",
    "Donde el término de enmedio es $r_{XY}$"
   ]
  },
  {
   "cell_type": "markdown",
   "metadata": {},
   "source": [
    "2.$\\Leftarrow )$ Sean $X$ y $Y$ v.a. tales que $y_i=\\alpha+\\beta x_i$ con $\\beta \\neq 0$ y $\\alpha$ constantes entonces si recordamos que:\n",
    "$$Cov(X,Y)=\\mathbb{E}[(X-\\mathbb{E}(X))(Y-\\mathbb{E}(Y))]$$\n",
    "$$Var(X)=\\mathbb{E}[(X-\\mathbb{E}(X))]^{2}$$\n",
    "Entonces podemos escribir la expresión que nos dan como:\n",
    "$$\n",
    "r_{XY}=\\frac{n\\sum_{i=1}^n(x_i-\\bar{x})(y_i-\\bar{y})}{n\\sqrt{\\sum_{i=1}^n(x_i-\\bar{x})^2\\sum_{i=1}^n(y_i-\\bar{y})^2}}\n",
    "$$\n",
    "Que es lo mismo que: \n",
    "$$r_{XY}=\\frac{Cov(X,\\beta X+ \\alpha)}{\\sqrt{Var(X)Var(\\beta X+ \\alpha)}}=\\frac{\\beta}{|\\beta|}$$\n",
    "Entonces $ r_{XY}=1$ cuando $\\beta>0$ y $ r_{XY}=-1$ cuando $\\beta<0$ \n",
    "Por lo tanto $|r_{XY}|=1 $\n",
    "$$$$\n",
    "$\\Rightarrow )$ Supongamos que $X$ y $Y$ son tales que $|r_{XY}|=1$ Si definimos \n",
    "$U=(X-\\mu_X)/\\sigma_X$ y $V=(Y-\\mu_Y)/\\sigma_Y$ entonces tenemos que\n",
    "$\\mathbb{E}(U)=0$ y $\\mathbb{E}(U)=0$ y tambien que $Var(U)=Var(V)=1$ entonces $r_{UV}=\\mathbb{E}(UV)$ y\n",
    "$$|r_{UV}|=\\frac{\\mathbb{E}[(X-\\mu_X)(Y-\\mu_Y)]}{\\sigma_x \\sigma_y}=|r_{XY}|=1$$\n",
    "Entonces si $r_{UV}=1$\n",
    "$$Var(U-V)=E(U-V)^{2}-E^{2}(U-V)\n",
    " =E(U-V)^{2} \\\\\n",
    " =2(1-E(UV))=0$$\n",
    " Esto implica que la $U-V=c$ donde $c$ es una constante y como $E(U-V)=0$ esta constante debe ser cero lo que implica que:\n",
    " $$\\frac{X-\\mu_X}{\\sigma_X}=\\frac{Y-\\mu_Y}{\\sigma_Y}$$\n",
    "Despejando para $Y$ se obtiene:\n",
    "$Y=\\mu_Y+(X-\\mu_X)\\sigma_Y/\\sigma_X$ Por lo que hay una relación lineal entre $X$ y $Y$. Por otra parte si $r_{UV}=-1$ \n",
    "entonces:\n",
    "$$Var(U+V)=E(U+V)^{2}-E^{2}(U+V)\n",
    " =E(U+V)^{2} \\\\\n",
    " =2(1+E(UV))=0$$\n",
    "De nueva cuenta $U+V=c$ donde $c$ es una constante y como $E(U+V)=0$ esta constante debe ser cero lo que implica que:\n",
    "  $$\\frac{X-\\mu_X}{\\sigma_X}=-\\frac{Y-\\mu_Y}{\\sigma_Y}$$\n",
    "  Despejando para $Y$ se obtiene:\n",
    "$Y=\\mu_Y-(X-\\mu_X)\\sigma_Y/\\sigma_X$ Por lo que hay una relación lineal entre $X$ y $Y$ y esta relación es inversa. Entonces en conjunto cuando $|r_{UV}|=|r_{XY}|=1$:\n",
    "$$Y=\\left[r_{XY}\\frac{\\sigma_Y}{\\sigma_X}\\right]X+\\left[\\mu_Y-r_{XY}\\mu_{X}\\frac{\\sigma_Y}{\\sigma_X}\\right]$$\n",
    "Lo que establece la linealidad entre $X$ y $Y$"
   ]
  },
  {
   "cell_type": "code",
   "execution_count": null,
   "metadata": {},
   "outputs": [],
   "source": [
    "Las calificaciones de 50 alumnos en Estadística han sido las siguientes:"
   ]
  },
  {
   "cell_type": "code",
   "execution_count": 2,
   "metadata": {},
   "outputs": [],
   "source": [
    "calif=[0, 1, 2, 2, 3, 3, 3, 4, 4, 4, 4, 4, 4, 5, 5, 5, 5, 5, 5, 5, 5, 5, 5, 5, 6,\n",
    "6, 6, 6, 6, 6, 6, 6, 6, 6, 6, 6, 7, 7, 7, 7, 7, 7, 7, 8, 8, 8, 8, 9, 9, 10]"
   ]
  },
  {
   "cell_type": "markdown",
   "metadata": {},
   "source": [
    "1. Calcular las medidas de tendencia central y de dispersión, ademas encuentre el Percentil 0.25 y 0.75 y elabore un gráfico de caja y brazos e histograma.\n",
    "2. ¿Los distribución de estos datos es Sesgada a la Izquierda?"
   ]
  },
  {
   "cell_type": "markdown",
   "metadata": {},
   "source": [
    "Los 40 alumnos de una clase han obtenido las siguientes puntuaciones, sobre 50, en un\n",
    "examen de Física."
   ]
  },
  {
   "cell_type": "code",
   "execution_count": 5,
   "metadata": {},
   "outputs": [],
   "source": [
    "califfisica=[48, 47, 44, 42, 41, 39, 39, 38, 38, 38, 37, 36, 36, 35, 35, 34, 34, 34, 33,\n",
    "32, 32, 31, 29, 28, 28, 27, 26, 25, 24, 23, 22, 20, 17, 15, 15, 13, 13, 11, 7, 3]"
   ]
  },
  {
   "cell_type": "markdown",
   "metadata": {},
   "source": [
    "1. Calcular las medidas de tendencia central y de dispersi ́on, ademas encuentre el Cuartil 1 y 3 así como los Deciles 1 y 9. Elabore un gráfico de caja y brazos, así como el gráfico de distribución empírica.\n",
    "2. ¿ Los datos tiene una distribuci ́on platicurtica?"
   ]
  }
 ],
 "metadata": {
  "kernelspec": {
   "display_name": "Python 3",
   "language": "python",
   "name": "python3"
  },
  "language_info": {
   "codemirror_mode": {
    "name": "ipython",
    "version": 3
   },
   "file_extension": ".py",
   "mimetype": "text/x-python",
   "name": "python",
   "nbconvert_exporter": "python",
   "pygments_lexer": "ipython3",
   "version": "3.7.3"
  }
 },
 "nbformat": 4,
 "nbformat_minor": 4
}
