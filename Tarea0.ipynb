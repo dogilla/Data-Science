{
 "cells": [
  {
   "cell_type": "markdown",
   "metadata": {},
   "source": [
    "### Tarea 0 Seminario de Estadística I"
   ]
  },
  {
   "cell_type": "markdown",
   "metadata": {},
   "source": [
    "### Estadística Descriptiva\n"
   ]
  },
  {
   "cell_type": "markdown",
   "metadata": {},
   "source": [
    "### a)\n",
    "\n",
    "Demuestra que si $f_1$ es $O(g_1)$ y $f_2$ es $O(g_2)$ entonces $(f_1+f_2)$ es $O(max{|g_1|,|g_2|})$\n",
    "\n",
    "Demostración:\n",
    "\n",
    "Como $f_1$ es $O(g_1)$ y $f_2$ es $O(g_2)$ entonces, por definición de $O(n)$ existen dos constantes $c_1$ y $c_2$ y dos indices $n_1$ y $n_2$ tal que:\n",
    "\n",
    "$f_1 \\leq c_1g_1$ cuando $c_1 \\leq n_1$\n",
    "\n",
    "$ f_2 \\leq c_2g_2$ cuando $c_2 \\leq n_2$\n",
    "\n",
    "entonces:\n",
    "\n",
    "$f_1 + f_2 \\leq c_1g_1 + c_2g_2$\n",
    "\n",
    "Supongamos que existe una constante $c = max(c_1, c_2)$ se cumple que\n",
    "\n",
    "$f_1 + f_2 \\leq c_1g_1 + c_2g_2 \\leq c(g_1 + g_2)$\n",
    "\n",
    "Por propiedades de los números reales tenemos que \n",
    "\n",
    "$g_1 + g_2 \\leq 2max(g_1, g_2)$\n",
    "\n",
    "entonces \n",
    "\n",
    "$c(g_1 + g_2) \\leq 2max(g_1, g_2)$\n",
    "\n",
    "y \n",
    "\n",
    "$f_1 + f_2 \\leq c(g_1 + g_2) \\leq 2cmax(g_1, g_2)$\n",
    "\n",
    "por tanto \n",
    "\n",
    "$f_1 + f_2 \\leq Cmax(g_1, g_2)$ con $C = 2c$\n",
    "\n",
    "=>\n",
    "\n",
    "$f_1+f_2 \\in O(max(g_1, g_2))$\n",
    "\n",
    "### b)\n",
    "\n",
    "Demostrar que si $f_1$ es $O(g_1)$ y $f_2$ es $O(g_2)$ entonces $(f_1f_2)$ es $O(g_1g_2)$\n",
    "\n",
    "Demostración:\n",
    "\n",
    "Como $f_1$ es $O(g_1)$ y $f_2$ es $O(g_2)$ entonces, por definición de $O(n)$ existen dos constantes $c_1$ y $c_2$ y dos indices $n_1$ y $n_2$ tal que:\n",
    "\n",
    "$f_1 \\leq c_1g_1$ cuando $c_1 \\leq n_1$\n",
    "\n",
    "$ f_2 \\leq c_2g_2$ cuando $c_2 \\leq n_2$\n",
    "\n",
    "entonces:\n",
    "\n",
    "$f_1f_2 \\leq c_1g_1c_2g_2$\n",
    "\n",
    "por asociatividad y conmutividad:\n",
    "\n",
    "$f_1f_2 \\leq (c_1c_2)g_1g_2$\n",
    "\n",
    "Supongamos que existe una constante $c \\geq c_1c_2$, entonces se cumple que\n",
    "\n",
    "$f_1f_2 \\leq cg_1g_2$\n",
    "\n",
    "por tanto:\n",
    "\n",
    "$f_1f_2 \\in O(g_1g_2)$\n",
    "\n",
    "### c)\n",
    "¿Cuál es la complejidad del siguiente algoritmo?\n",
    "```js\n",
    "for (i = 0; i < N; i++){\n",
    "    for (j = 0; j < M; j++){\n",
    "        print(i,j)\n",
    "    }\n",
    "}\n",
    "```\n",
    "\n",
    "El ciclo interno se ejecuta M veces y el externo N veces, lo que quiere decir que se repite el algoritmo en el caso promedio N*M veces\n",
    "\n",
    "Con respecto a la entrada, el algoritmo es $O(NM)$ o cuadratico $O(N^2)$ cuando $N \\approx M$ \n",
    "\n"
   ]
  },
  {
   "cell_type": "code",
   "execution_count": 2,
   "metadata": {},
   "outputs": [],
   "source": [
    "import numpy                as np  \n",
    "import matplotlib.pyplot    as plt \n",
    "import scipy.stats          as stats\n",
    "import pandas               as pd \n",
    "from statistics import mode\n",
    "import math"
   ]
  },
  {
   "cell_type": "markdown",
   "metadata": {},
   "source": [
    "a) Las calificaciones de 50 alumnos en Estadística han sido las siguientes:"
   ]
  },
  {
   "cell_type": "code",
   "execution_count": 4,
   "metadata": {},
   "outputs": [],
   "source": [
    "calif=[0, 1, 2, 2, 3, 3, 3, 4, 4, 4, 4, 4, 4, 5, 5, 5, 5, 5, 5, 5, 5, 5, 5, 5, 6,\n",
    "6, 6, 6, 6, 6, 6, 6, 6, 6, 6, 6, 7, 7, 7, 7, 7, 7, 7, 8, 8, 8, 8, 9, 9, 10]"
   ]
  },
  {
   "cell_type": "markdown",
   "metadata": {},
   "source": [
    "1. Calcular las medidas de tendencia central y de dispersión, ademas encuentre el Percentil 0.25 y 0.75 y elabore un gráfico de caja y brazos e histograma.\n",
    "2. ¿Los distribución de estos datos es Sesgada a la Izquierda?"
   ]
  },
  {
   "cell_type": "code",
   "execution_count": 139,
   "metadata": {},
   "outputs": [
    {
     "name": "stdout",
     "output_type": "stream",
     "text": [
      "Media: 5.48\n",
      "Mediana: 6.0\n",
      "Moda: 6\n",
      "Varianza muestral: 4.05061224489796\n",
      "Desviacion estandar: 2.012613287469294\n",
      "Rango: 10\n",
      "Rango intercuantilico: 2.75\n",
      "Coeficiente de variacion: 73.91628184120364\n",
      "Percentil 0.25: 4.25\n",
      "Percentil 0.75: 7.0\n"
     ]
    }
   ],
   "source": [
    "media = np.mean(calif)\n",
    "mediana = np.median(calif)\n",
    "moda = mode(calif)\n",
    "\n",
    "def var_m(listaNumeros):\n",
    "    laSuma = 0\n",
    "    for i in listaNumeros:\n",
    "        laSuma = laSuma + (i - media)**2\n",
    "    return laSuma/(len(calif)-1)\n",
    "\n",
    "varianza_muestral = var_m(calif)\n",
    "desviacion_estandar = math.sqrt(varianza_muestral)\n",
    "rango = max(calif) - min(calif)\n",
    "rango_intercuantilico = np.quantile(calif, 0.75) - np.quantile(calif, 0.25)\n",
    "coeficiente_de_variacion = (varianza_muestral/media)*100\n",
    "\n",
    "print(\"Media: \" + str(media))\n",
    "print(\"Mediana: \" + str(mediana))\n",
    "print(\"Moda: \" + str(moda))\n",
    "print(\"Varianza muestral: \" + str(varianza_muestral))\n",
    "print(\"Desviacion estandar: \" + str(desviacion_estandar))\n",
    "print(\"Rango: \" + str(rango))\n",
    "print(\"Rango intercuantilico: \" + str(rango_intercuantilico))\n",
    "print(\"Coeficiente de variacion: \" + str(coeficiente_de_variacion))\n",
    "print(\"Percentil 0.25: \" + str(np.quantile(calif, 0.25)))\n",
    "print(\"Percentil 0.75: \" + str(np.quantile(calif, 0.75)))"
   ]
  },
  {
   "cell_type": "code",
   "execution_count": 6,
   "metadata": {},
   "outputs": [
    {
     "data": {
      "image/png": "[encoded data removed]",
      "text/plain": [
       "<Figure size 432x288 with 1 Axes>"
      ]
     },
     "metadata": {
      "needs_background": "light"
     },
     "output_type": "display_data"
    }
   ],
   "source": [
    "# Gráfico de caja y brazos \n",
    "plt.boxplot(calif)\n",
    "plt.show()"
   ]
  },
  {
   "cell_type": "code",
   "execution_count": 141,
   "metadata": {},
   "outputs": [
    {
     "data": {
      "image/png": "[encoded data removed]",
      "text/plain": [
       "<Figure size 432x288 with 1 Axes>"
      ]
     },
     "metadata": {
      "needs_background": "light"
     },
     "output_type": "display_data"
    }
   ],
   "source": [
    "# histograma\n",
    "import seaborn as sns\n",
    "sns.distplot(calif, bins = 10); "
   ]
  },
  {
   "cell_type": "code",
   "execution_count": 8,
   "metadata": {},
   "outputs": [
    {
     "data": {
      "image/png": "[encoded data removed]",
      "text/plain": [
       "<Figure size 432x288 with 1 Axes>"
      ]
     },
     "metadata": {
      "needs_background": "light"
     },
     "output_type": "display_data"
    }
   ],
   "source": [
    "plt.hist(calif,bins=10,color=\"blue\",density=False, edgecolor='black');"
   ]
  },
  {
   "cell_type": "code",
   "execution_count": 143,
   "metadata": {},
   "outputs": [
    {
     "name": "stdout",
     "output_type": "stream",
     "text": [
      "La asimetria es: -0.342246184028854\n"
     ]
    }
   ],
   "source": [
    "print(\"La asimetria es: \" + str(stats.skew(calif))) #asimetria"
   ]
  },
  {
   "cell_type": "markdown",
   "metadata": {},
   "source": [
    "La distribución tiene una asimetría negativa asi que decimos que los datos están \n",
    "sesgados a la izquierda.\n",
    "\n",
    "$\\therefore$ Los datos están sesgados a la izquierda."
   ]
  },
  {
   "cell_type": "markdown",
   "metadata": {},
   "source": [
    "b) Los 40 alumnos de una clase han obtenido las siguientes puntuaciones, sobre 50, en un\n",
    "examen de Física."
   ]
  },
  {
   "cell_type": "code",
   "execution_count": 144,
   "metadata": {},
   "outputs": [],
   "source": [
    "califfisica=[48, 47, 44, 42, 41, 39, 39, 38, 38, 38, 37, 36, 36, 35, 35, 34, 34, 34, 33,\n",
    "32, 32, 31, 29, 28, 28, 27, 26, 25, 24, 23, 22, 20, 17, 15, 15, 13, 13, 11, 7, 3]"
   ]
  },
  {
   "cell_type": "markdown",
   "metadata": {},
   "source": [
    "1. Calcular las medidas de tendencia central y de dispersi ́on, ademas encuentre el Cuartil 1 y 3 así como los Deciles 1 y 9. Elabore un gráfico de caja y brazos, así como el gráfico de distribución empírica.\n",
    "2. ¿ Los datos tiene una distribuci ́on platicurtica?"
   ]
  },
  {
   "cell_type": "code",
   "execution_count": 155,
   "metadata": {},
   "outputs": [],
   "source": [
    "#Como al calcular la moda habian 2 valores, esto nos arrojaba un error \n",
    "# lo que se hizo fue una funcion que nos arrojara todos los valores que tenían mayor frecuencia\n",
    "def moda_1(lista):\n",
    "    #Crea una lista de todos los elementos no repetidos\n",
    "    suma = []\n",
    "    for i in lista:\n",
    "        if i not in suma:\n",
    "            suma.append(i)\n",
    "    #Cuenta cuantas veces aparece un elemento en la lista y lo guarda en una lista\n",
    "    loco = []\n",
    "    for j in range(len(suma)):\n",
    "        loco.append(0)\n",
    "        for l in lista:\n",
    "            if suma[j] == l:\n",
    "                loco[j] = loco[j] + 1\n",
    "    #Crea un array para notar el conteo que tuvo cada numero\n",
    "    modalidad = np.array([suma,loco])\n",
    "    #Nos muestra el numero más repetido\n",
    "    m = []\n",
    "    for i in range(len(suma)):\n",
    "        if max(loco) == modalidad[1,i]:\n",
    "            m.append(modalidad[0,i])\n",
    "            #print(modalidad[0,i])\n",
    "    return m"
   ]
  },
  {
   "cell_type": "code",
   "execution_count": 156,
   "metadata": {},
   "outputs": [
    {
     "name": "stdout",
     "output_type": "stream",
     "text": [
      "Media: 29.225\n",
      "Mediana: 32.0\n",
      "Moda: [38, 34]\n",
      "Varianza muestral: 97.24438775510205\n",
      "Desviacion estandar: 9.861256905440708\n",
      "Rango: 45\n",
      "Rango intercuantilico: 14.5\n",
      "Coeficiente de variacion: 332.7438417625391\n",
      "Primer cuantil: 22.75\n",
      "Tercer cuantil: 37.25\n",
      "Primer decil: 13.0\n",
      "Noveno decil: 41.1\n"
     ]
    }
   ],
   "source": [
    "media = np.mean(califfisica)\n",
    "mediana = np.median(califfisica)\n",
    "moda = moda_1(califfisica)\n",
    "varianza_muestral = sumalista(califfisica)\n",
    "desviacion_estandar = math.sqrt(varianza_muestral)\n",
    "rango = max(califfisica) - min(califfisica)\n",
    "rango_intercuantilico = np.quantile(califfisica, 0.75) - np.quantile(califfisica, 0.25)\n",
    "coeficiente_de_variacion = (varianza_muestral/media)*100\n",
    "\n",
    "print(\"Media: \" + str(media))\n",
    "print(\"Mediana: \" + str(mediana))\n",
    "print(\"Moda: \" +str(moda))\n",
    "print(\"Varianza muestral: \" + str(varianza_muestral))\n",
    "print(\"Desviacion estandar: \" + str(desviacion_estandar))\n",
    "print(\"Rango: \" + str(rango))\n",
    "print(\"Rango intercuantilico: \" + str(rango_intercuantilico))\n",
    "print(\"Coeficiente de variacion: \" + str(coeficiente_de_variacion))\n",
    "print(\"Primer cuantil: \" + str(np.quantile(califfisica, 0.25)))\n",
    "print(\"Tercer cuantil: \" + str(np.quantile(califfisica, 0.75)))\n",
    "print(\"Primer decil: \" + str(np.percentile(califfisica, 10)))\n",
    "print(\"Noveno decil: \" + str(np.percentile(califfisica, 90)))\n"
   ]
  },
  {
   "cell_type": "code",
   "execution_count": 147,
   "metadata": {},
   "outputs": [
    {
     "data": {
      "image/png": "[encoded data removed]",
      "text/plain": [
       "<Figure size 432x288 with 1 Axes>"
      ]
     },
     "metadata": {
      "needs_background": "light"
     },
     "output_type": "display_data"
    }
   ],
   "source": [
    "# grafico de caja y brazos\n",
    "plt.boxplot(califfisica)\n",
    "plt.show()"
   ]
  },
  {
   "cell_type": "code",
   "execution_count": 148,
   "metadata": {},
   "outputs": [
    {
     "data": {
      "image/png": "[encoded data removed]",
      "text/plain": [
       "<Figure size 432x288 with 1 Axes>"
      ]
     },
     "metadata": {
      "needs_background": "light"
     },
     "output_type": "display_data"
    }
   ],
   "source": [
    "# Distribucion empirica de las calificaciones\n",
    "from statsmodels.distributions.empirical_distribution import ECDF\n",
    "\n",
    "ecdf=ECDF(califfisica)\n",
    "x = np.linspace(min(califfisica), max(califfisica))\n",
    "y = ecdf(x)\n",
    "plt.step(x, y)\n",
    "plt.title(\"Calificaciones de fisica\")\n",
    "plt.show()"
   ]
  },
  {
   "cell_type": "code",
   "execution_count": 149,
   "metadata": {},
   "outputs": [
    {
     "name": "stdout",
     "output_type": "stream",
     "text": [
      "La curtosis es: -0.4482490835838018\n"
     ]
    }
   ],
   "source": [
    "print(\"La curtosis es: \" + str(stats.kurtosis(califfisica))) #kurtuosis"
   ]
  },
  {
   "cell_type": "markdown",
   "metadata": {},
   "source": [
    "Como la curtosis es < 0, la distribución es platicurtica\n",
    "\n",
    "$\\therefore$  Es platicurtica."
   ]
  },
  {
   "cell_type": "code",
   "execution_count": null,
   "metadata": {},
   "outputs": [],
   "source": []
  }
 ],
 "metadata": {
  "kernelspec": {
   "display_name": "Python 3",
   "language": "python",
   "name": "python3"
  },
  "language_info": {
   "codemirror_mode": {
    "name": "ipython",
    "version": 3
   },
   "file_extension": ".py",
   "mimetype": "text/x-python",
   "name": "python",
   "nbconvert_exporter": "python",
   "pygments_lexer": "ipython3",
   "version": "3.5.6"
  }
 },
 "nbformat": 4,
 "nbformat_minor": 4
}
