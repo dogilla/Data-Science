{
 "cells": [
  {
   "cell_type": "markdown",
   "id": "hindu-apparatus",
   "metadata": {},
   "source": [
    "### Ejercicio 1 (Primera parte)"
   ]
  },
  {
   "cell_type": "code",
   "execution_count": 1,
   "id": "excessive-portsmouth",
   "metadata": {},
   "outputs": [
    {
     "name": "stderr",
     "output_type": "stream",
     "text": [
      "\n",
      "Attaching package: 'dplyr'\n",
      "\n",
      "The following objects are masked from 'package:stats':\n",
      "\n",
      "    filter, lag\n",
      "\n",
      "The following objects are masked from 'package:base':\n",
      "\n",
      "    intersect, setdiff, setequal, union\n",
      "\n"
     ]
    }
   ],
   "source": [
    "library(dplyr)"
   ]
  },
  {
   "cell_type": "code",
   "execution_count": 2,
   "id": "toxic-value",
   "metadata": {
    "scrolled": true
   },
   "outputs": [],
   "source": [
    "covid <- read.csv(\"covidfilter.csv\")"
   ]
  },
  {
   "cell_type": "code",
   "execution_count": 3,
   "id": "unlike-contents",
   "metadata": {},
   "outputs": [
    {
     "data": {
      "text/html": [
       "<table>\n",
       "<thead><tr><th scope=col>X</th><th scope=col>SEXO</th><th scope=col>OBESIDAD</th><th scope=col>DIABETES</th><th scope=col>EPOC</th><th scope=col>ASMA</th><th scope=col>CARDIOVASCULAR</th><th scope=col>RENAL.CRONICA</th><th scope=col>INMUNOSUPRESION</th><th scope=col>HIPERTENSION</th><th scope=col>TABAQUISMO</th><th scope=col>TIPO.PACIENTE</th><th scope=col>EDAD</th></tr></thead>\n",
       "<tbody>\n",
       "\t<tr><td>0            </td><td>MUJER        </td><td>NO           </td><td>NO           </td><td>NO           </td><td>NO           </td><td>NO           </td><td>NO           </td><td>NO           </td><td>NO           </td><td>NO           </td><td>AMBULATORIO  </td><td>51           </td></tr>\n",
       "\t<tr><td>1            </td><td>MUJER        </td><td>NO           </td><td>NO           </td><td>NO           </td><td>NO           </td><td>NO           </td><td>NO           </td><td>NO           </td><td>NO           </td><td>SI           </td><td>AMBULATORIO  </td><td>37           </td></tr>\n",
       "\t<tr><td>2            </td><td>HOMBRE       </td><td>NO           </td><td>NO           </td><td>NO           </td><td>NO           </td><td>NO           </td><td>NO           </td><td>NO           </td><td>NO           </td><td>NO           </td><td>AMBULATORIO  </td><td>18           </td></tr>\n",
       "\t<tr><td>3            </td><td>HOMBRE       </td><td>NO           </td><td>NO           </td><td>NO           </td><td>NO           </td><td>NO           </td><td>NO           </td><td>NO           </td><td>NO           </td><td>NO           </td><td>AMBULATORIO  </td><td>40           </td></tr>\n",
       "\t<tr><td>4            </td><td>MUJER        </td><td>NO           </td><td>SI           </td><td>NO           </td><td>NO           </td><td>NO           </td><td>SI           </td><td>NO           </td><td>SI           </td><td>NO           </td><td>HOSPITALIZADO</td><td>78           </td></tr>\n",
       "</tbody>\n",
       "</table>\n"
      ],
      "text/latex": [
       "\\begin{tabular}{r|lllllllllllll}\n",
       " X & SEXO & OBESIDAD & DIABETES & EPOC & ASMA & CARDIOVASCULAR & RENAL.CRONICA & INMUNOSUPRESION & HIPERTENSION & TABAQUISMO & TIPO.PACIENTE & EDAD\\\\\n",
       "\\hline\n",
       "\t 0             & MUJER         & NO            & NO            & NO            & NO            & NO            & NO            & NO            & NO            & NO            & AMBULATORIO   & 51           \\\\\n",
       "\t 1             & MUJER         & NO            & NO            & NO            & NO            & NO            & NO            & NO            & NO            & SI            & AMBULATORIO   & 37           \\\\\n",
       "\t 2             & HOMBRE        & NO            & NO            & NO            & NO            & NO            & NO            & NO            & NO            & NO            & AMBULATORIO   & 18           \\\\\n",
       "\t 3             & HOMBRE        & NO            & NO            & NO            & NO            & NO            & NO            & NO            & NO            & NO            & AMBULATORIO   & 40           \\\\\n",
       "\t 4             & MUJER         & NO            & SI            & NO            & NO            & NO            & SI            & NO            & SI            & NO            & HOSPITALIZADO & 78           \\\\\n",
       "\\end{tabular}\n"
      ],
      "text/markdown": [
       "\n",
       "| X | SEXO | OBESIDAD | DIABETES | EPOC | ASMA | CARDIOVASCULAR | RENAL.CRONICA | INMUNOSUPRESION | HIPERTENSION | TABAQUISMO | TIPO.PACIENTE | EDAD |\n",
       "|---|---|---|---|---|---|---|---|---|---|---|---|---|\n",
       "| 0             | MUJER         | NO            | NO            | NO            | NO            | NO            | NO            | NO            | NO            | NO            | AMBULATORIO   | 51            |\n",
       "| 1             | MUJER         | NO            | NO            | NO            | NO            | NO            | NO            | NO            | NO            | SI            | AMBULATORIO   | 37            |\n",
       "| 2             | HOMBRE        | NO            | NO            | NO            | NO            | NO            | NO            | NO            | NO            | NO            | AMBULATORIO   | 18            |\n",
       "| 3             | HOMBRE        | NO            | NO            | NO            | NO            | NO            | NO            | NO            | NO            | NO            | AMBULATORIO   | 40            |\n",
       "| 4             | MUJER         | NO            | SI            | NO            | NO            | NO            | SI            | NO            | SI            | NO            | HOSPITALIZADO | 78            |\n",
       "\n"
      ],
      "text/plain": [
       "  X SEXO   OBESIDAD DIABETES EPOC ASMA CARDIOVASCULAR RENAL.CRONICA\n",
       "1 0 MUJER  NO       NO       NO   NO   NO             NO           \n",
       "2 1 MUJER  NO       NO       NO   NO   NO             NO           \n",
       "3 2 HOMBRE NO       NO       NO   NO   NO             NO           \n",
       "4 3 HOMBRE NO       NO       NO   NO   NO             NO           \n",
       "5 4 MUJER  NO       SI       NO   NO   NO             SI           \n",
       "  INMUNOSUPRESION HIPERTENSION TABAQUISMO TIPO.PACIENTE EDAD\n",
       "1 NO              NO           NO         AMBULATORIO   51  \n",
       "2 NO              NO           SI         AMBULATORIO   37  \n",
       "3 NO              NO           NO         AMBULATORIO   18  \n",
       "4 NO              NO           NO         AMBULATORIO   40  \n",
       "5 NO              SI           NO         HOSPITALIZADO 78  "
      ]
     },
     "metadata": {},
     "output_type": "display_data"
    },
    {
     "data": {
      "text/html": [
       "<table>\n",
       "<thead><tr><th scope=col>SEXO</th><th scope=col>OBESIDAD</th><th scope=col>DIABETES</th><th scope=col>EPOC</th><th scope=col>ASMA</th><th scope=col>CARDIOVASCULAR</th><th scope=col>RENAL.CRONICA</th><th scope=col>INMUNOSUPRESION</th><th scope=col>HIPERTENSION</th><th scope=col>TABAQUISMO</th><th scope=col>TIPO.PACIENTE</th><th scope=col>EDAD</th></tr></thead>\n",
       "<tbody>\n",
       "\t<tr><td>0 </td><td>0 </td><td>0 </td><td>0 </td><td>0 </td><td>0 </td><td>0 </td><td>0 </td><td>0 </td><td>0 </td><td>0 </td><td>51</td></tr>\n",
       "\t<tr><td>0 </td><td>0 </td><td>0 </td><td>0 </td><td>0 </td><td>0 </td><td>0 </td><td>0 </td><td>0 </td><td>1 </td><td>0 </td><td>37</td></tr>\n",
       "\t<tr><td>1 </td><td>0 </td><td>0 </td><td>0 </td><td>0 </td><td>0 </td><td>0 </td><td>0 </td><td>0 </td><td>0 </td><td>0 </td><td>18</td></tr>\n",
       "\t<tr><td>1 </td><td>0 </td><td>0 </td><td>0 </td><td>0 </td><td>0 </td><td>0 </td><td>0 </td><td>0 </td><td>0 </td><td>0 </td><td>40</td></tr>\n",
       "\t<tr><td>0 </td><td>0 </td><td>1 </td><td>0 </td><td>0 </td><td>0 </td><td>1 </td><td>0 </td><td>1 </td><td>0 </td><td>1 </td><td>78</td></tr>\n",
       "</tbody>\n",
       "</table>\n"
      ],
      "text/latex": [
       "\\begin{tabular}{r|llllllllllll}\n",
       " SEXO & OBESIDAD & DIABETES & EPOC & ASMA & CARDIOVASCULAR & RENAL.CRONICA & INMUNOSUPRESION & HIPERTENSION & TABAQUISMO & TIPO.PACIENTE & EDAD\\\\\n",
       "\\hline\n",
       "\t 0  & 0  & 0  & 0  & 0  & 0  & 0  & 0  & 0  & 0  & 0  & 51\\\\\n",
       "\t 0  & 0  & 0  & 0  & 0  & 0  & 0  & 0  & 0  & 1  & 0  & 37\\\\\n",
       "\t 1  & 0  & 0  & 0  & 0  & 0  & 0  & 0  & 0  & 0  & 0  & 18\\\\\n",
       "\t 1  & 0  & 0  & 0  & 0  & 0  & 0  & 0  & 0  & 0  & 0  & 40\\\\\n",
       "\t 0  & 0  & 1  & 0  & 0  & 0  & 1  & 0  & 1  & 0  & 1  & 78\\\\\n",
       "\\end{tabular}\n"
      ],
      "text/markdown": [
       "\n",
       "| SEXO | OBESIDAD | DIABETES | EPOC | ASMA | CARDIOVASCULAR | RENAL.CRONICA | INMUNOSUPRESION | HIPERTENSION | TABAQUISMO | TIPO.PACIENTE | EDAD |\n",
       "|---|---|---|---|---|---|---|---|---|---|---|---|\n",
       "| 0  | 0  | 0  | 0  | 0  | 0  | 0  | 0  | 0  | 0  | 0  | 51 |\n",
       "| 0  | 0  | 0  | 0  | 0  | 0  | 0  | 0  | 0  | 1  | 0  | 37 |\n",
       "| 1  | 0  | 0  | 0  | 0  | 0  | 0  | 0  | 0  | 0  | 0  | 18 |\n",
       "| 1  | 0  | 0  | 0  | 0  | 0  | 0  | 0  | 0  | 0  | 0  | 40 |\n",
       "| 0  | 0  | 1  | 0  | 0  | 0  | 1  | 0  | 1  | 0  | 1  | 78 |\n",
       "\n"
      ],
      "text/plain": [
       "  SEXO OBESIDAD DIABETES EPOC ASMA CARDIOVASCULAR RENAL.CRONICA INMUNOSUPRESION\n",
       "1 0    0        0        0    0    0              0             0              \n",
       "2 0    0        0        0    0    0              0             0              \n",
       "3 1    0        0        0    0    0              0             0              \n",
       "4 1    0        0        0    0    0              0             0              \n",
       "5 0    0        1        0    0    0              1             0              \n",
       "  HIPERTENSION TABAQUISMO TIPO.PACIENTE EDAD\n",
       "1 0            0          0             51  \n",
       "2 0            1          0             37  \n",
       "3 0            0          0             18  \n",
       "4 0            0          0             40  \n",
       "5 1            0          1             78  "
      ]
     },
     "metadata": {},
     "output_type": "display_data"
    }
   ],
   "source": [
    "head(covid,5)\n",
    "covid <- select(covid, -X) %>%\n",
    "  mutate(SEXO = ifelse(SEXO == \"HOMBRE\", 1, 0), OBESIDAD = ifelse(OBESIDAD == \"SI\", 1, 0),\n",
    "         DIABETES = ifelse(DIABETES == \"SI\", 1, 0), EPOC = ifelse(EPOC == \"SI\", 1, 0),\n",
    "         ASMA = ifelse(ASMA == \"SI\", 1, 0), CARDIOVASCULAR = ifelse(CARDIOVASCULAR == \"SI\", 1, 0),\n",
    "         RENAL.CRONICA = ifelse(RENAL.CRONICA == \"SI\", 1, 0), INMUNOSUPRESION = ifelse(INMUNOSUPRESION == \"SI\", 1, 0),\n",
    "         HIPERTENSION = ifelse(HIPERTENSION == \"SI\", 1, 0), TIPO.PACIENTE = ifelse(TIPO.PACIENTE == \"HOSPITALIZADO\", 1, 0),\n",
    "         TABAQUISMO = ifelse(TABAQUISMO == \"SI\", 1, 0))\n",
    "head(covid,5)"
   ]
  },
  {
   "cell_type": "code",
   "execution_count": 4,
   "id": "golden-afternoon",
   "metadata": {},
   "outputs": [],
   "source": [
    "#Lo guardamos en un csv para poder utilizarlo en la seleccion de modelo SelectKBest\n",
    "write.csv(covid, file = \"Covid_clean.csv\")"
   ]
  },
  {
   "cell_type": "markdown",
   "id": "sound-astrology",
   "metadata": {},
   "source": [
    "### Utilizar el AIC con forward, backward y stepwise."
   ]
  },
  {
   "cell_type": "code",
   "execution_count": 5,
   "id": "professional-feeling",
   "metadata": {},
   "outputs": [
    {
     "name": "stderr",
     "output_type": "stream",
     "text": [
      "\n",
      "Attaching package: 'MASS'\n",
      "\n",
      "The following object is masked from 'package:dplyr':\n",
      "\n",
      "    select\n",
      "\n",
      "Warning message:\n",
      "\"package 'leaps' was built under R version 3.6.3\""
     ]
    }
   ],
   "source": [
    "library(MASS)\n",
    "library(leaps)"
   ]
  },
  {
   "cell_type": "code",
   "execution_count": 6,
   "id": "outer-routine",
   "metadata": {},
   "outputs": [],
   "source": [
    "nullmodel = lm(TIPO.PACIENTE~ 1, data = covid)\n",
    "fullmodel <- lm(TIPO.PACIENTE~ ., data = covid)"
   ]
  },
  {
   "cell_type": "markdown",
   "id": "continent-builder",
   "metadata": {},
   "source": [
    "#### Selección de variables con AIC 'forward'"
   ]
  },
  {
   "cell_type": "code",
   "execution_count": 7,
   "id": "later-sweet",
   "metadata": {
    "scrolled": false
   },
   "outputs": [
    {
     "name": "stdout",
     "output_type": "stream",
     "text": [
      "Start:  AIC=-553759.4\n",
      "TIPO.PACIENTE ~ 1\n",
      "\n",
      "                  Df Sum of Sq   RSS     AIC\n",
      "+ EDAD             1   11208.9 59296 -613888\n",
      "+ DIABETES         1    4843.5 65661 -578475\n",
      "+ HIPERTENSION     1    4130.9 66374 -574726\n",
      "+ RENAL.CRONICA    1    1071.7 69433 -559077\n",
      "+ SEXO             1     747.2 69758 -557458\n",
      "+ EPOC             1     637.2 69868 -556910\n",
      "+ CARDIOVASCULAR   1     515.7 69989 -556307\n",
      "+ OBESIDAD         1     349.5 70155 -555483\n",
      "+ INMUNOSUPRESION  1     301.9 70203 -555248\n",
      "+ ASMA             1      21.3 70484 -553862\n",
      "+ TABAQUISMO       1      10.3 70495 -553808\n",
      "<none>                         70505 -553759\n",
      "\n",
      "Step:  AIC=-613888.5\n",
      "TIPO.PACIENTE ~ EDAD\n",
      "\n",
      "                  Df Sum of Sq   RSS     AIC\n",
      "+ DIABETES         1   1346.14 57950 -621862\n",
      "+ HIPERTENSION     1    589.83 58706 -617358\n",
      "+ RENAL.CRONICA    1    535.22 58761 -617036\n",
      "+ SEXO             1    511.07 58785 -616893\n",
      "+ INMUNOSUPRESION  1    188.60 59107 -614993\n",
      "+ OBESIDAD         1    163.01 59133 -614843\n",
      "+ EPOC             1     79.74 59216 -614354\n",
      "+ CARDIOVASCULAR   1     75.05 59221 -614326\n",
      "+ TABAQUISMO       1      9.43 59287 -613942\n",
      "+ ASMA             1      4.10 59292 -613910\n",
      "<none>                         59296 -613888\n",
      "\n",
      "Step:  AIC=-621861.7\n",
      "TIPO.PACIENTE ~ EDAD + DIABETES\n",
      "\n",
      "                  Df Sum of Sq   RSS     AIC\n",
      "+ SEXO             1    527.06 57423 -625033\n",
      "+ RENAL.CRONICA    1    341.54 57608 -623913\n",
      "+ HIPERTENSION     1    217.35 57733 -623165\n",
      "+ INMUNOSUPRESION  1    147.90 57802 -622747\n",
      "+ OBESIDAD         1     91.68 57858 -622410\n",
      "+ EPOC             1     57.64 57892 -622205\n",
      "+ CARDIOVASCULAR   1     42.54 57907 -622115\n",
      "+ TABAQUISMO       1      6.50 57943 -621899\n",
      "+ ASMA             1      5.99 57944 -621896\n",
      "<none>                         57950 -621862\n",
      "\n",
      "Step:  AIC=-625032.9\n",
      "TIPO.PACIENTE ~ EDAD + DIABETES + SEXO\n",
      "\n",
      "                  Df Sum of Sq   RSS     AIC\n",
      "+ RENAL.CRONICA    1    335.59 57087 -627067\n",
      "+ HIPERTENSION     1    233.28 57190 -626445\n",
      "+ INMUNOSUPRESION  1    154.87 57268 -625969\n",
      "+ OBESIDAD         1    102.74 57320 -625653\n",
      "+ EPOC             1     61.02 57362 -625400\n",
      "+ CARDIOVASCULAR   1     41.29 57382 -625281\n",
      "+ ASMA             1      1.91 57421 -625042\n",
      "<none>                         57423 -625033\n",
      "+ TABAQUISMO       1      0.08 57423 -625031\n",
      "\n",
      "Step:  AIC=-627066.5\n",
      "TIPO.PACIENTE ~ EDAD + DIABETES + SEXO + RENAL.CRONICA\n",
      "\n",
      "                  Df Sum of Sq   RSS     AIC\n",
      "+ HIPERTENSION     1   174.574 56913 -628128\n",
      "+ INMUNOSUPRESION  1   115.533 56972 -627768\n",
      "+ OBESIDAD         1   105.998 56981 -627710\n",
      "+ EPOC             1    51.462 57036 -627378\n",
      "+ CARDIOVASCULAR   1    25.551 57062 -627220\n",
      "+ ASMA             1     2.164 57085 -627078\n",
      "<none>                         57087 -627067\n",
      "+ TABAQUISMO       1     0.005 57087 -627065\n",
      "\n",
      "Step:  AIC=-628128.2\n",
      "TIPO.PACIENTE ~ EDAD + DIABETES + SEXO + RENAL.CRONICA + HIPERTENSION\n",
      "\n",
      "                  Df Sum of Sq   RSS     AIC\n",
      "+ INMUNOSUPRESION  1   113.893 56799 -628822\n",
      "+ OBESIDAD         1    76.376 56836 -628593\n",
      "+ EPOC             1    45.610 56867 -628405\n",
      "+ CARDIOVASCULAR   1    15.088 56898 -628218\n",
      "+ ASMA             1     3.164 56910 -628145\n",
      "<none>                         56913 -628128\n",
      "+ TABAQUISMO       1     0.000 56913 -628126\n",
      "\n",
      "Step:  AIC=-628821.9\n",
      "TIPO.PACIENTE ~ EDAD + DIABETES + SEXO + RENAL.CRONICA + HIPERTENSION + \n",
      "    INMUNOSUPRESION\n",
      "\n",
      "                 Df Sum of Sq   RSS     AIC\n",
      "+ OBESIDAD        1    74.520 56724 -629276\n",
      "+ EPOC            1    39.516 56759 -629062\n",
      "+ CARDIOVASCULAR  1    11.686 56787 -628891\n",
      "+ ASMA            1     4.075 56795 -628845\n",
      "<none>                        56799 -628822\n",
      "+ TABAQUISMO      1     0.008 56799 -628820\n",
      "\n",
      "Step:  AIC=-629275.8\n",
      "TIPO.PACIENTE ~ EDAD + DIABETES + SEXO + RENAL.CRONICA + HIPERTENSION + \n",
      "    INMUNOSUPRESION + OBESIDAD\n",
      "\n",
      "                 Df Sum of Sq   RSS     AIC\n",
      "+ EPOC            1    37.579 56687 -629504\n",
      "+ CARDIOVASCULAR  1    10.009 56714 -629335\n",
      "+ ASMA            1     5.671 56719 -629309\n",
      "+ TABAQUISMO      1     0.551 56724 -629277\n",
      "<none>                        56724 -629276\n",
      "\n",
      "Step:  AIC=-629504\n",
      "TIPO.PACIENTE ~ EDAD + DIABETES + SEXO + RENAL.CRONICA + HIPERTENSION + \n",
      "    INMUNOSUPRESION + OBESIDAD + EPOC\n",
      "\n",
      "                 Df Sum of Sq   RSS     AIC\n",
      "+ CARDIOVASCULAR  1    7.6621 56679 -629549\n",
      "+ ASMA            1    6.8727 56680 -629544\n",
      "+ TABAQUISMO      1    1.2850 56685 -629510\n",
      "<none>                        56687 -629504\n",
      "\n",
      "Step:  AIC=-629548.9\n",
      "TIPO.PACIENTE ~ EDAD + DIABETES + SEXO + RENAL.CRONICA + HIPERTENSION + \n",
      "    INMUNOSUPRESION + OBESIDAD + EPOC + CARDIOVASCULAR\n",
      "\n",
      "             Df Sum of Sq   RSS     AIC\n",
      "+ ASMA        1    7.0983 56672 -629590\n",
      "+ TABAQUISMO  1    1.4014 56678 -629556\n",
      "<none>                    56679 -629549\n",
      "\n",
      "Step:  AIC=-629590.4\n",
      "TIPO.PACIENTE ~ EDAD + DIABETES + SEXO + RENAL.CRONICA + HIPERTENSION + \n",
      "    INMUNOSUPRESION + OBESIDAD + EPOC + CARDIOVASCULAR + ASMA\n",
      "\n",
      "             Df Sum of Sq   RSS     AIC\n",
      "+ TABAQUISMO  1    1.3906 56671 -629597\n",
      "<none>                    56672 -629590\n",
      "\n",
      "Step:  AIC=-629596.9\n",
      "TIPO.PACIENTE ~ EDAD + DIABETES + SEXO + RENAL.CRONICA + HIPERTENSION + \n",
      "    INMUNOSUPRESION + OBESIDAD + EPOC + CARDIOVASCULAR + ASMA + \n",
      "    TABAQUISMO\n",
      "\n"
     ]
    },
    {
     "data": {
      "text/plain": [
       "\n",
       "Call:\n",
       "lm(formula = TIPO.PACIENTE ~ EDAD + DIABETES + SEXO + RENAL.CRONICA + \n",
       "    HIPERTENSION + INMUNOSUPRESION + OBESIDAD + EPOC + CARDIOVASCULAR + \n",
       "    ASMA + TABAQUISMO, data = covid)\n",
       "\n",
       "Coefficients:\n",
       "    (Intercept)             EDAD         DIABETES             SEXO  \n",
       "      -0.209107         0.008841         0.146079         0.080029  \n",
       "  RENAL.CRONICA     HIPERTENSION  INMUNOSUPRESION         OBESIDAD  \n",
       "       0.188254         0.056724         0.157254         0.037813  \n",
       "           EPOC   CARDIOVASCULAR             ASMA       TABAQUISMO  \n",
       "       0.083226         0.033436        -0.027941        -0.007735  \n"
      ]
     },
     "metadata": {},
     "output_type": "display_data"
    }
   ],
   "source": [
    "stepAIC(nullmodel, scope = list(lower=nullmodel,upper=fullmodel), data=covid, direction='forward')"
   ]
  },
  {
   "cell_type": "markdown",
   "id": "level-filename",
   "metadata": {},
   "source": [
    "#### Selección de variables con AIC 'backward'"
   ]
  },
  {
   "cell_type": "code",
   "execution_count": 8,
   "id": "north-signature",
   "metadata": {},
   "outputs": [
    {
     "name": "stdout",
     "output_type": "stream",
     "text": [
      "Start:  AIC=-629596.9\n",
      "TIPO.PACIENTE ~ SEXO + OBESIDAD + DIABETES + EPOC + ASMA + CARDIOVASCULAR + \n",
      "    RENAL.CRONICA + INMUNOSUPRESION + HIPERTENSION + TABAQUISMO + \n",
      "    EDAD\n",
      "\n",
      "                  Df Sum of Sq   RSS     AIC\n",
      "<none>                         56671 -629597\n",
      "- TABAQUISMO       1       1.4 56672 -629590\n",
      "- ASMA             1       7.1 56678 -629556\n",
      "- CARDIOVASCULAR   1       8.0 56679 -629550\n",
      "- EPOC             1      37.1 56708 -629371\n",
      "- OBESIDAD         1      74.0 56745 -629146\n",
      "- INMUNOSUPRESION  1     104.8 56775 -628957\n",
      "- HIPERTENSION     1     133.7 56804 -628781\n",
      "- RENAL.CRONICA    1     237.5 56908 -628147\n",
      "- SEXO             1     544.6 57215 -626278\n",
      "- DIABETES         1     815.3 57486 -624638\n",
      "- EDAD             1    5725.0 62396 -596176\n"
     ]
    },
    {
     "data": {
      "text/plain": [
       "\n",
       "Call:\n",
       "lm(formula = TIPO.PACIENTE ~ SEXO + OBESIDAD + DIABETES + EPOC + \n",
       "    ASMA + CARDIOVASCULAR + RENAL.CRONICA + INMUNOSUPRESION + \n",
       "    HIPERTENSION + TABAQUISMO + EDAD, data = covid)\n",
       "\n",
       "Coefficients:\n",
       "    (Intercept)             SEXO         OBESIDAD         DIABETES  \n",
       "      -0.209107         0.080029         0.037813         0.146079  \n",
       "           EPOC             ASMA   CARDIOVASCULAR    RENAL.CRONICA  \n",
       "       0.083226        -0.027941         0.033436         0.188254  \n",
       "INMUNOSUPRESION     HIPERTENSION       TABAQUISMO             EDAD  \n",
       "       0.157254         0.056724        -0.007735         0.008841  \n"
      ]
     },
     "metadata": {},
     "output_type": "display_data"
    }
   ],
   "source": [
    "stepAIC(fullmodel, scope = list(lower=nullmodel,upper=fullmodel), data=covid, direction='backward')"
   ]
  },
  {
   "cell_type": "markdown",
   "id": "academic-image",
   "metadata": {},
   "source": [
    "#### Selección de variables con AIC 'stepwise'"
   ]
  },
  {
   "cell_type": "code",
   "execution_count": 9,
   "id": "canadian-savage",
   "metadata": {},
   "outputs": [
    {
     "name": "stdout",
     "output_type": "stream",
     "text": [
      "Start:  AIC=-629596.9\n",
      "TIPO.PACIENTE ~ SEXO + OBESIDAD + DIABETES + EPOC + ASMA + CARDIOVASCULAR + \n",
      "    RENAL.CRONICA + INMUNOSUPRESION + HIPERTENSION + TABAQUISMO + \n",
      "    EDAD\n",
      "\n",
      "                  Df Sum of Sq   RSS     AIC\n",
      "<none>                         56671 -629597\n",
      "- TABAQUISMO       1       1.4 56672 -629590\n",
      "- ASMA             1       7.1 56678 -629556\n",
      "- CARDIOVASCULAR   1       8.0 56679 -629550\n",
      "- EPOC             1      37.1 56708 -629371\n",
      "- OBESIDAD         1      74.0 56745 -629146\n",
      "- INMUNOSUPRESION  1     104.8 56775 -628957\n",
      "- HIPERTENSION     1     133.7 56804 -628781\n",
      "- RENAL.CRONICA    1     237.5 56908 -628147\n",
      "- SEXO             1     544.6 57215 -626278\n",
      "- DIABETES         1     815.3 57486 -624638\n",
      "- EDAD             1    5725.0 62396 -596176\n"
     ]
    },
    {
     "data": {
      "text/plain": [
       "\n",
       "Call:\n",
       "lm(formula = TIPO.PACIENTE ~ SEXO + OBESIDAD + DIABETES + EPOC + \n",
       "    ASMA + CARDIOVASCULAR + RENAL.CRONICA + INMUNOSUPRESION + \n",
       "    HIPERTENSION + TABAQUISMO + EDAD, data = covid)\n",
       "\n",
       "Coefficients:\n",
       "    (Intercept)             SEXO         OBESIDAD         DIABETES  \n",
       "      -0.209107         0.080029         0.037813         0.146079  \n",
       "           EPOC             ASMA   CARDIOVASCULAR    RENAL.CRONICA  \n",
       "       0.083226        -0.027941         0.033436         0.188254  \n",
       "INMUNOSUPRESION     HIPERTENSION       TABAQUISMO             EDAD  \n",
       "       0.157254         0.056724        -0.007735         0.008841  \n"
      ]
     },
     "metadata": {},
     "output_type": "display_data"
    }
   ],
   "source": [
    "stepAIC(fullmodel, scope = list(lower=nullmodel,upper=fullmodel), data=covid, direction='both')"
   ]
  },
  {
   "cell_type": "markdown",
   "id": "honest-venture",
   "metadata": {},
   "source": [
    "Los 3 modelos contemplan todas las covariables"
   ]
  },
  {
   "cell_type": "markdown",
   "id": "adapted-edmonton",
   "metadata": {},
   "source": [
    "### Utilizar los criterios de BIC y Mallow Cp."
   ]
  },
  {
   "cell_type": "markdown",
   "id": "injured-crowd",
   "metadata": {},
   "source": [
    "#### Criterios BIC y Mallow Cp"
   ]
  },
  {
   "cell_type": "code",
   "execution_count": 10,
   "id": "talented-steering",
   "metadata": {},
   "outputs": [
    {
     "data": {
      "text/html": [
       "<table>\n",
       "<thead><tr><th scope=col>(Intercept)</th><th scope=col>SEXO</th><th scope=col>OBESIDAD</th><th scope=col>DIABETES</th><th scope=col>EPOC</th><th scope=col>ASMA</th><th scope=col>CARDIOVASCULAR</th><th scope=col>RENAL.CRONICA</th><th scope=col>INMUNOSUPRESION</th><th scope=col>HIPERTENSION</th><th scope=col>TABAQUISMO</th><th scope=col>EDAD</th><th scope=col>bic</th><th scope=col>cp</th></tr></thead>\n",
       "<tbody>\n",
       "\t<tr><td>1        </td><td>0        </td><td>0        </td><td>0        </td><td>0        </td><td>0        </td><td>0        </td><td>0        </td><td>0        </td><td>0        </td><td>0        </td><td>1        </td><td>-60105.56</td><td>16081.483</td></tr>\n",
       "\t<tr><td>1        </td><td>0        </td><td>0        </td><td>1        </td><td>0        </td><td>0        </td><td>0        </td><td>0        </td><td>0        </td><td>0        </td><td>0        </td><td>1        </td><td>-68068.00</td><td> 7834.165</td></tr>\n",
       "\t<tr><td>1        </td><td>1        </td><td>0        </td><td>1        </td><td>0        </td><td>0        </td><td>0        </td><td>0        </td><td>0        </td><td>0        </td><td>0        </td><td>1        </td><td>-71228.41</td><td> 4606.254</td></tr>\n",
       "\t<tr><td>1        </td><td>1        </td><td>0        </td><td>1        </td><td>0        </td><td>0        </td><td>0        </td><td>1        </td><td>0        </td><td>0        </td><td>0        </td><td>1        </td><td>-73251.30</td><td> 2551.690</td></tr>\n",
       "\t<tr><td>1        </td><td>1        </td><td>0        </td><td>1        </td><td>0        </td><td>0        </td><td>0        </td><td>1        </td><td>0        </td><td>1        </td><td>0        </td><td>1        </td><td>-74302.20</td><td> 1483.880</td></tr>\n",
       "\t<tr><td>1        </td><td>1        </td><td>0        </td><td>1        </td><td>0        </td><td>0        </td><td>0        </td><td>1        </td><td>1        </td><td>1        </td><td>0        </td><td>1        </td><td>-74985.15</td><td>  787.930</td></tr>\n",
       "\t<tr><td>1        </td><td>1        </td><td>1        </td><td>1        </td><td>0        </td><td>0        </td><td>0        </td><td>1        </td><td>1        </td><td>1        </td><td>0        </td><td>1        </td><td>-75428.34</td><td>  333.265</td></tr>\n",
       "\t<tr><td>1        </td><td>1        </td><td>1        </td><td>1        </td><td>1        </td><td>0        </td><td>0        </td><td>1        </td><td>1        </td><td>1        </td><td>0        </td><td>1        </td><td>-75645.74</td><td>  104.975</td></tr>\n",
       "\t<tr><td>1        </td><td>1        </td><td>1        </td><td>1        </td><td>1        </td><td>0        </td><td>1        </td><td>1        </td><td>1        </td><td>1        </td><td>0        </td><td>1        </td><td>-75679.92</td><td>   60.021</td></tr>\n",
       "\t<tr><td>1        </td><td>1        </td><td>1        </td><td>1        </td><td>1        </td><td>1        </td><td>1        </td><td>1        </td><td>1        </td><td>1        </td><td>0        </td><td>1        </td><td>-75710.66</td><td>   18.522</td></tr>\n",
       "\t<tr><td>1        </td><td>1        </td><td>1        </td><td>1        </td><td>1        </td><td>1        </td><td>1        </td><td>1        </td><td>1        </td><td>1        </td><td>1        </td><td>1        </td><td>-75706.43</td><td>   12.000</td></tr>\n",
       "</tbody>\n",
       "</table>\n"
      ],
      "text/latex": [
       "\\begin{tabular}{r|llllllllllllll}\n",
       " (Intercept) & SEXO & OBESIDAD & DIABETES & EPOC & ASMA & CARDIOVASCULAR & RENAL.CRONICA & INMUNOSUPRESION & HIPERTENSION & TABAQUISMO & EDAD & bic & cp\\\\\n",
       "\\hline\n",
       "\t 1         & 0         & 0         & 0         & 0         & 0         & 0         & 0         & 0         & 0         & 0         & 1         & -60105.56 & 16081.483\\\\\n",
       "\t 1         & 0         & 0         & 1         & 0         & 0         & 0         & 0         & 0         & 0         & 0         & 1         & -68068.00 &  7834.165\\\\\n",
       "\t 1         & 1         & 0         & 1         & 0         & 0         & 0         & 0         & 0         & 0         & 0         & 1         & -71228.41 &  4606.254\\\\\n",
       "\t 1         & 1         & 0         & 1         & 0         & 0         & 0         & 1         & 0         & 0         & 0         & 1         & -73251.30 &  2551.690\\\\\n",
       "\t 1         & 1         & 0         & 1         & 0         & 0         & 0         & 1         & 0         & 1         & 0         & 1         & -74302.20 &  1483.880\\\\\n",
       "\t 1         & 1         & 0         & 1         & 0         & 0         & 0         & 1         & 1         & 1         & 0         & 1         & -74985.15 &   787.930\\\\\n",
       "\t 1         & 1         & 1         & 1         & 0         & 0         & 0         & 1         & 1         & 1         & 0         & 1         & -75428.34 &   333.265\\\\\n",
       "\t 1         & 1         & 1         & 1         & 1         & 0         & 0         & 1         & 1         & 1         & 0         & 1         & -75645.74 &   104.975\\\\\n",
       "\t 1         & 1         & 1         & 1         & 1         & 0         & 1         & 1         & 1         & 1         & 0         & 1         & -75679.92 &    60.021\\\\\n",
       "\t 1         & 1         & 1         & 1         & 1         & 1         & 1         & 1         & 1         & 1         & 0         & 1         & -75710.66 &    18.522\\\\\n",
       "\t 1         & 1         & 1         & 1         & 1         & 1         & 1         & 1         & 1         & 1         & 1         & 1         & -75706.43 &    12.000\\\\\n",
       "\\end{tabular}\n"
      ],
      "text/markdown": [
       "\n",
       "| (Intercept) | SEXO | OBESIDAD | DIABETES | EPOC | ASMA | CARDIOVASCULAR | RENAL.CRONICA | INMUNOSUPRESION | HIPERTENSION | TABAQUISMO | EDAD | bic | cp |\n",
       "|---|---|---|---|---|---|---|---|---|---|---|---|---|---|\n",
       "| 1         | 0         | 0         | 0         | 0         | 0         | 0         | 0         | 0         | 0         | 0         | 1         | -60105.56 | 16081.483 |\n",
       "| 1         | 0         | 0         | 1         | 0         | 0         | 0         | 0         | 0         | 0         | 0         | 1         | -68068.00 |  7834.165 |\n",
       "| 1         | 1         | 0         | 1         | 0         | 0         | 0         | 0         | 0         | 0         | 0         | 1         | -71228.41 |  4606.254 |\n",
       "| 1         | 1         | 0         | 1         | 0         | 0         | 0         | 1         | 0         | 0         | 0         | 1         | -73251.30 |  2551.690 |\n",
       "| 1         | 1         | 0         | 1         | 0         | 0         | 0         | 1         | 0         | 1         | 0         | 1         | -74302.20 |  1483.880 |\n",
       "| 1         | 1         | 0         | 1         | 0         | 0         | 0         | 1         | 1         | 1         | 0         | 1         | -74985.15 |   787.930 |\n",
       "| 1         | 1         | 1         | 1         | 0         | 0         | 0         | 1         | 1         | 1         | 0         | 1         | -75428.34 |   333.265 |\n",
       "| 1         | 1         | 1         | 1         | 1         | 0         | 0         | 1         | 1         | 1         | 0         | 1         | -75645.74 |   104.975 |\n",
       "| 1         | 1         | 1         | 1         | 1         | 0         | 1         | 1         | 1         | 1         | 0         | 1         | -75679.92 |    60.021 |\n",
       "| 1         | 1         | 1         | 1         | 1         | 1         | 1         | 1         | 1         | 1         | 0         | 1         | -75710.66 |    18.522 |\n",
       "| 1         | 1         | 1         | 1         | 1         | 1         | 1         | 1         | 1         | 1         | 1         | 1         | -75706.43 |    12.000 |\n",
       "\n"
      ],
      "text/plain": [
       "   (Intercept) SEXO OBESIDAD DIABETES EPOC ASMA CARDIOVASCULAR RENAL.CRONICA\n",
       "1  1           0    0        0        0    0    0              0            \n",
       "2  1           0    0        1        0    0    0              0            \n",
       "3  1           1    0        1        0    0    0              0            \n",
       "4  1           1    0        1        0    0    0              1            \n",
       "5  1           1    0        1        0    0    0              1            \n",
       "6  1           1    0        1        0    0    0              1            \n",
       "7  1           1    1        1        0    0    0              1            \n",
       "8  1           1    1        1        1    0    0              1            \n",
       "9  1           1    1        1        1    0    1              1            \n",
       "10 1           1    1        1        1    1    1              1            \n",
       "11 1           1    1        1        1    1    1              1            \n",
       "   INMUNOSUPRESION HIPERTENSION TABAQUISMO EDAD bic       cp       \n",
       "1  0               0            0          1    -60105.56 16081.483\n",
       "2  0               0            0          1    -68068.00  7834.165\n",
       "3  0               0            0          1    -71228.41  4606.254\n",
       "4  0               0            0          1    -73251.30  2551.690\n",
       "5  0               1            0          1    -74302.20  1483.880\n",
       "6  1               1            0          1    -74985.15   787.930\n",
       "7  1               1            0          1    -75428.34   333.265\n",
       "8  1               1            0          1    -75645.74   104.975\n",
       "9  1               1            0          1    -75679.92    60.021\n",
       "10 1               1            0          1    -75710.66    18.522\n",
       "11 1               1            1          1    -75706.43    12.000"
      ]
     },
     "metadata": {},
     "output_type": "display_data"
    }
   ],
   "source": [
    "models = regsubsets(TIPO.PACIENTE~. ,data=covid, nbest=1 , nvmax=11)\n",
    "info = summary(models)\n",
    "cbind(info$which, round(cbind(bic=info$bic, cp=info$cp),3))"
   ]
  },
  {
   "cell_type": "markdown",
   "id": "hairy-maryland",
   "metadata": {},
   "source": [
    "Vemos que el BIC y Cp mas pequeño en ambos casos son con el modelo que contempla todas las covariables"
   ]
  }
 ],
 "metadata": {
  "kernelspec": {
   "display_name": "R",
   "language": "R",
   "name": "ir"
  },
  "language_info": {
   "codemirror_mode": "r",
   "file_extension": ".r",
   "mimetype": "text/x-r-source",
   "name": "R",
   "pygments_lexer": "r",
   "version": "3.6.1"
  }
 },
 "nbformat": 4,
 "nbformat_minor": 5
}
