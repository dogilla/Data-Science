{
 "cells": [
  {
   "cell_type": "code",
   "execution_count": 11,
   "metadata": {},
   "outputs": [
    {
     "data": {
      "text/plain": [
       "'C:\\\\Users\\\\alex-\\\\Documents\\\\Git Hub'"
      ]
     },
     "execution_count": 11,
     "metadata": {},
     "output_type": "execute_result"
    }
   ],
   "source": [
    "import os\n",
    "os.getcwd()"
   ]
  },
  {
   "cell_type": "code",
   "execution_count": 96,
   "metadata": {},
   "outputs": [],
   "source": [
    "import urllib.request          as     url\n",
    "import pandas                  as     pd\n",
    "from   sklearn                 import tree\n",
    "import graphviz                as     gv\n",
    "import numpy                   as     np\n",
    "from   sklearn.metrics         import accuracy_score\n",
    "from   sklearn.model_selection import train_test_split\n",
    "from   sklearn.ensemble        import BaggingClassifier,RandomForestClassifier\n",
    "import matplotlib.pylab        as     plt \n",
    "import sklearn\n",
    "from   sklearn.model_selection import GridSearchCV,RandomizedSearchCV\n",
    "from   sklearn.ensemble        import AdaBoostClassifier,GradientBoostingClassifier\n",
    "from sklearn import metrics"
   ]
  },
  {
   "cell_type": "code",
   "execution_count": 17,
   "metadata": {},
   "outputs": [
    {
     "data": {
      "text/html": [
       "<div>\n",
       "<style scoped>\n",
       "    .dataframe tbody tr th:only-of-type {\n",
       "        vertical-align: middle;\n",
       "    }\n",
       "\n",
       "    .dataframe tbody tr th {\n",
       "        vertical-align: top;\n",
       "    }\n",
       "\n",
       "    .dataframe thead th {\n",
       "        text-align: right;\n",
       "    }\n",
       "</style>\n",
       "<table border=\"1\" class=\"dataframe\">\n",
       "  <thead>\n",
       "    <tr style=\"text-align: right;\">\n",
       "      <th></th>\n",
       "      <th>V1</th>\n",
       "      <th>V2</th>\n",
       "      <th>V3</th>\n",
       "      <th>V4</th>\n",
       "      <th>V5</th>\n",
       "      <th>V6</th>\n",
       "      <th>V7</th>\n",
       "      <th>V8</th>\n",
       "      <th>V9</th>\n",
       "      <th>V10</th>\n",
       "      <th>...</th>\n",
       "      <th>V52</th>\n",
       "      <th>V53</th>\n",
       "      <th>V54</th>\n",
       "      <th>V55</th>\n",
       "      <th>V56</th>\n",
       "      <th>V57</th>\n",
       "      <th>V58</th>\n",
       "      <th>V59</th>\n",
       "      <th>V60</th>\n",
       "      <th>Y</th>\n",
       "    </tr>\n",
       "  </thead>\n",
       "  <tbody>\n",
       "    <tr>\n",
       "      <th>0</th>\n",
       "      <td>0.0200</td>\n",
       "      <td>0.0371</td>\n",
       "      <td>0.0428</td>\n",
       "      <td>0.0207</td>\n",
       "      <td>0.0954</td>\n",
       "      <td>0.0986</td>\n",
       "      <td>0.1539</td>\n",
       "      <td>0.1601</td>\n",
       "      <td>0.3109</td>\n",
       "      <td>0.2111</td>\n",
       "      <td>...</td>\n",
       "      <td>0.0027</td>\n",
       "      <td>0.0065</td>\n",
       "      <td>0.0159</td>\n",
       "      <td>0.0072</td>\n",
       "      <td>0.0167</td>\n",
       "      <td>0.018</td>\n",
       "      <td>0.0084</td>\n",
       "      <td>0.0090</td>\n",
       "      <td>0.0032</td>\n",
       "      <td>R</td>\n",
       "    </tr>\n",
       "    <tr>\n",
       "      <th>1</th>\n",
       "      <td>0.0453</td>\n",
       "      <td>0.0523</td>\n",
       "      <td>0.0843</td>\n",
       "      <td>0.0689</td>\n",
       "      <td>0.1183</td>\n",
       "      <td>0.2583</td>\n",
       "      <td>0.2156</td>\n",
       "      <td>0.3481</td>\n",
       "      <td>0.3337</td>\n",
       "      <td>0.2872</td>\n",
       "      <td>...</td>\n",
       "      <td>0.0084</td>\n",
       "      <td>0.0089</td>\n",
       "      <td>0.0048</td>\n",
       "      <td>0.0094</td>\n",
       "      <td>0.0191</td>\n",
       "      <td>0.014</td>\n",
       "      <td>0.0049</td>\n",
       "      <td>0.0052</td>\n",
       "      <td>0.0044</td>\n",
       "      <td>R</td>\n",
       "    </tr>\n",
       "  </tbody>\n",
       "</table>\n",
       "<p>2 rows × 61 columns</p>\n",
       "</div>"
      ],
      "text/plain": [
       "       V1      V2      V3      V4      V5      V6      V7      V8      V9  \\\n",
       "0  0.0200  0.0371  0.0428  0.0207  0.0954  0.0986  0.1539  0.1601  0.3109   \n",
       "1  0.0453  0.0523  0.0843  0.0689  0.1183  0.2583  0.2156  0.3481  0.3337   \n",
       "\n",
       "      V10  ...     V52     V53     V54     V55     V56    V57     V58     V59  \\\n",
       "0  0.2111  ...  0.0027  0.0065  0.0159  0.0072  0.0167  0.018  0.0084  0.0090   \n",
       "1  0.2872  ...  0.0084  0.0089  0.0048  0.0094  0.0191  0.014  0.0049  0.0052   \n",
       "\n",
       "      V60  Y  \n",
       "0  0.0032  R  \n",
       "1  0.0044  R  \n",
       "\n",
       "[2 rows x 61 columns]"
      ]
     },
     "execution_count": 17,
     "metadata": {},
     "output_type": "execute_result"
    }
   ],
   "source": [
    "data=pd.read_csv('sonar.csv',sep=',',header=0)\n",
    "data.shape\n",
    "data.head(2)"
   ]
  },
  {
   "cell_type": "markdown",
   "metadata": {},
   "source": [
    "Tenemos 111 registros de minas y 97 casos de rocas"
   ]
  },
  {
   "cell_type": "code",
   "execution_count": 18,
   "metadata": {},
   "outputs": [
    {
     "name": "stdout",
     "output_type": "stream",
     "text": [
      "M    111\n",
      "R     97\n",
      "Name: Y, dtype: int64\n"
     ]
    }
   ],
   "source": [
    "print(pd.value_counts(data['Y']))"
   ]
  },
  {
   "cell_type": "markdown",
   "metadata": {},
   "source": [
    "Tomamos los datos de entrenamiento"
   ]
  },
  {
   "cell_type": "code",
   "execution_count": 19,
   "metadata": {},
   "outputs": [],
   "source": [
    "y=data.pop(\"Y\")\n",
    "X=data\n",
    "X_train, X_test, y_train, y_test = train_test_split(X, y, test_size=0.30, random_state=42)"
   ]
  },
  {
   "cell_type": "markdown",
   "metadata": {},
   "source": [
    "no. de observaciones entre minas y rocas en la base de entrenamiento"
   ]
  },
  {
   "cell_type": "code",
   "execution_count": 20,
   "metadata": {},
   "outputs": [
    {
     "name": "stdout",
     "output_type": "stream",
     "text": [
      "M    76\n",
      "R    69\n",
      "Name: Y, dtype: int64\n"
     ]
    }
   ],
   "source": [
    "print(pd.value_counts(y_train))"
   ]
  },
  {
   "cell_type": "markdown",
   "metadata": {},
   "source": [
    "Ajustando el modelo usando el índice de Gini como medida de impureza"
   ]
  },
  {
   "cell_type": "code",
   "execution_count": 21,
   "metadata": {},
   "outputs": [],
   "source": [
    "seed=7\n",
    "tr=tree.DecisionTreeClassifier(criterion=\"gini\",max_depth=7,max_leaf_nodes=7)\n",
    "trf=tr.fit(X_train,y_train)"
   ]
  },
  {
   "cell_type": "markdown",
   "metadata": {},
   "source": [
    "Vamos a ver el porcentaje de datos bien clasificados y el número"
   ]
  },
  {
   "cell_type": "code",
   "execution_count": 25,
   "metadata": {},
   "outputs": [
    {
     "name": "stdout",
     "output_type": "stream",
     "text": [
      "Porcentaje de datos bien clasificados\n",
      "0.6984126984126984\n",
      "número de datos bien clasificados\n"
     ]
    },
    {
     "data": {
      "text/plain": [
       "44"
      ]
     },
     "execution_count": 25,
     "metadata": {},
     "output_type": "execute_result"
    }
   ],
   "source": [
    "yp=trf.predict(X_test)\n",
    "print('Porcentaje de datos bien clasificados')\n",
    "print(accuracy_score(y_test,yp))\n",
    "print('número de datos bien clasificados')\n",
    "accuracy_score(y_test,yp,normalize=False)"
   ]
  },
  {
   "cell_type": "markdown",
   "metadata": {},
   "source": [
    "Así con el modelo ajustado como lo hicimos en clase tenemos un porcentaje de datos bien clasificados \n",
    "en roca o mina del 69%. Vamos a ver si al variar hiperpámetros obtenemos mejores resultados:"
   ]
  },
  {
   "cell_type": "code",
   "execution_count": 44,
   "metadata": {},
   "outputs": [
    {
     "data": {
      "text/plain": [
       "GridSearchCV(estimator=DecisionTreeClassifier(),\n",
       "             param_grid={'criterion': ['gini', 'entropy'],\n",
       "                         'max_depth': [4, 5, 6, 7, 8, 9, 10, 11],\n",
       "                         'max_leaf_nodes': [5, 6, 7, 8, 9, 10, 11, 12, 13, 14,\n",
       "                                            15, 16, 17, 18, 19, 20, 21, 22, 23,\n",
       "                                            24]},\n",
       "             scoring='accuracy')"
      ]
     },
     "execution_count": 44,
     "metadata": {},
     "output_type": "execute_result"
    }
   ],
   "source": [
    "param_grid = {\n",
    "    'max_depth' : [4,5,6,7,8,9,10,11],\n",
    "    'max_leaf_nodes' : [i for i in range(5,25,1)],\n",
    "    'criterion':[\"gini\", \"entropy\"]\n",
    "}\n",
    "model = GridSearchCV(tree.DecisionTreeClassifier(),param_grid, scoring = 'accuracy')\n",
    "model.fit(X_train, y_train)"
   ]
  },
  {
   "cell_type": "code",
   "execution_count": 45,
   "metadata": {},
   "outputs": [
    {
     "name": "stdout",
     "output_type": "stream",
     "text": [
      "model score: 0.746\n",
      "hiperparametros:  {'criterion': 'entropy', 'max_depth': 8, 'max_leaf_nodes': 23}\n"
     ]
    }
   ],
   "source": [
    "print(\"model score: %.3f\" % model.score(X_test, y_test))\n",
    "print (\"hiperparametros: \",str(model.best_params_))"
   ]
  },
  {
   "cell_type": "markdown",
   "metadata": {},
   "source": [
    "Parece que con una profundidad de 11 y un número máximo de hojas igual a 13 se mejora el score del\n",
    "modelo.El criterio de impureza sigue siendo el índice de Gini.Volviendo a ajustar los datos con\n",
    "este nuevo modelo tenemos:"
   ]
  },
  {
   "cell_type": "code",
   "execution_count": 50,
   "metadata": {},
   "outputs": [
    {
     "name": "stdout",
     "output_type": "stream",
     "text": [
      "Porcentaje de datos bien clasificados\n",
      "0.8412698412698413\n",
      "número de datos bien clasificados\n"
     ]
    },
    {
     "data": {
      "text/plain": [
       "53"
      ]
     },
     "execution_count": 50,
     "metadata": {},
     "output_type": "execute_result"
    }
   ],
   "source": [
    "seed=7\n",
    "tr2=tree.DecisionTreeClassifier(criterion=\"gini\",max_depth=11,max_leaf_nodes=13)\n",
    "trf2=tr2.fit(X_train,y_train)\n",
    "#Vamos a ver el porcentaje de datos bien clasificados\n",
    "# y el número\n",
    "yp2=trf2.predict(X_test)\n",
    "print('Porcentaje de datos bien clasificados')\n",
    "print(accuracy_score(y_test,yp2))\n",
    "print('número de datos bien clasificados')\n",
    "accuracy_score(y_test,yp2,normalize=False)"
   ]
  },
  {
   "cell_type": "markdown",
   "metadata": {},
   "source": [
    "Vamos a podar el árbol para evitar un sobreajuste:"
   ]
  },
  {
   "cell_type": "code",
   "execution_count": 51,
   "metadata": {},
   "outputs": [],
   "source": [
    "path = tr2.cost_complexity_pruning_path(X_train, y_train)\n",
    "ccp_alphas, impurities = path.ccp_alphas, path.impurities"
   ]
  },
  {
   "cell_type": "code",
   "execution_count": 52,
   "metadata": {},
   "outputs": [
    {
     "data": {
      "text/plain": [
       "Text(0.5, 1.0, 'Impureza vs alpha efectiva')"
      ]
     },
     "execution_count": 52,
     "metadata": {},
     "output_type": "execute_result"
    },
    {
     "data": {
      "image/png": "[encoded data removed]",
      "text/plain": [
       "<Figure size 432x288 with 1 Axes>"
      ]
     },
     "metadata": {
      "needs_background": "light"
     },
     "output_type": "display_data"
    }
   ],
   "source": [
    "fig, ax = plt.subplots()\n",
    "ax.plot(ccp_alphas[:-1], impurities[:-1], marker='o', drawstyle=\"steps-post\")\n",
    "ax.set_xlabel(\"alpha efectiva\")\n",
    "ax.set_ylabel(\"total de impureza\")\n",
    "ax.set_title(\"Impureza vs alpha efectiva\")"
   ]
  },
  {
   "cell_type": "code",
   "execution_count": 53,
   "metadata": {},
   "outputs": [
    {
     "name": "stdout",
     "output_type": "stream",
     "text": [
      "Numero de nodos en el ultimo arbol es: 1 con ccp_alpha: 0.1588416867846118\n"
     ]
    }
   ],
   "source": [
    "models = []\n",
    "for ccp_alpha in ccp_alphas:\n",
    "    mod = tree.DecisionTreeClassifier(random_state=0, ccp_alpha=ccp_alpha)\n",
    "    mod.fit(X_train, y_train)\n",
    "    models.append(mod)\n",
    "print(\"Numero de nodos en el ultimo arbol es: {} con ccp_alpha: {}\".format(\n",
    "      models[-1].tree_.node_count, ccp_alphas[-1]))"
   ]
  },
  {
   "cell_type": "code",
   "execution_count": 54,
   "metadata": {},
   "outputs": [],
   "source": [
    "models = models[:-1]\n",
    "ccp_alphas = ccp_alphas[:-1]"
   ]
  },
  {
   "cell_type": "code",
   "execution_count": 55,
   "metadata": {},
   "outputs": [
    {
     "data": {
      "image/png": "[encoded data removed]",
      "text/plain": [
       "<Figure size 432x288 with 2 Axes>"
      ]
     },
     "metadata": {
      "needs_background": "light"
     },
     "output_type": "display_data"
    }
   ],
   "source": [
    "node_counts = [mod.tree_.node_count for mod in models]\n",
    "depth = [mod.tree_.max_depth for mod in models]\n",
    "fig, ax = plt.subplots(2, 1)\n",
    "ax[0].plot(ccp_alphas, node_counts, marker='o', drawstyle=\"steps-post\")\n",
    "ax[0].set_xlabel(\"alpha\")\n",
    "ax[0].set_ylabel(\"Numero de nodos\")\n",
    "ax[0].set_title(\"Numero de nodos vs alpha\")\n",
    "ax[1].plot(ccp_alphas, depth, marker='o', drawstyle=\"steps-post\")\n",
    "ax[1].set_xlabel(\"alpha\")\n",
    "ax[1].set_ylabel(\"profundidad del arbol\")\n",
    "ax[1].set_title(\"profundidad vs alpha\")\n",
    "fig.tight_layout()"
   ]
  },
  {
   "cell_type": "code",
   "execution_count": 56,
   "metadata": {},
   "outputs": [
    {
     "data": {
      "image/png": "[encoded data removed]",
      "text/plain": [
       "<Figure size 432x288 with 1 Axes>"
      ]
     },
     "metadata": {
      "needs_background": "light"
     },
     "output_type": "display_data"
    }
   ],
   "source": [
    "train_scores = [mod.score(X_train, y_train) for mod in models]\n",
    "test_scores = [mod.score(X_test, y_test) for mod in models]\n",
    "\n",
    "fig, ax = plt.subplots()\n",
    "ax.set_xlabel(\"alpha\")\n",
    "ax.set_ylabel(\"accuracy\")\n",
    "ax.set_title(\"Accuracy vs alpha para datos de training y test\")\n",
    "ax.plot(ccp_alphas, train_scores, marker='o', label=\"train\",\n",
    "        drawstyle=\"steps-post\")\n",
    "ax.plot(ccp_alphas, test_scores, marker='o', label=\"test\",\n",
    "        drawstyle=\"steps-post\")\n",
    "ax.legend()\n",
    "plt.show()"
   ]
  },
  {
   "cell_type": "markdown",
   "metadata": {},
   "source": [
    "Ajustando un modelo Random Forest"
   ]
  },
  {
   "cell_type": "code",
   "execution_count": 60,
   "metadata": {},
   "outputs": [
    {
     "data": {
      "text/plain": [
       "RandomForestClassifier(max_depth=7, random_state=0)"
      ]
     },
     "execution_count": 60,
     "metadata": {},
     "output_type": "execute_result"
    }
   ],
   "source": [
    "seed=7\n",
    "randomForest = RandomForestClassifier(max_depth=7,n_estimators=100, random_state=0)\n",
    "randomForest.fit(X_train, y_train)\n"
   ]
  },
  {
   "cell_type": "code",
   "execution_count": 65,
   "metadata": {},
   "outputs": [
    {
     "name": "stdout",
     "output_type": "stream",
     "text": [
      "número de datos bien clasificados con Random Forest\n"
     ]
    },
    {
     "data": {
      "text/plain": [
       "54"
      ]
     },
     "execution_count": 65,
     "metadata": {},
     "output_type": "execute_result"
    }
   ],
   "source": [
    "y_forest=randomForest.predict(X_test)\n",
    "print('número de datos bien clasificados con Random Forest')\n",
    "accuracy_score(y_test,y_forest,normalize=False)"
   ]
  },
  {
   "cell_type": "markdown",
   "metadata": {},
   "source": [
    "Tuvimos más datos mejor clasificados con los árboles de clasificación que con Random Forest\n",
    "Vamos a ver cuál sería un mejor ajuste para los hiperparámetros"
   ]
  },
  {
   "cell_type": "code",
   "execution_count": 70,
   "metadata": {},
   "outputs": [
    {
     "data": {
      "text/plain": [
       "{'n_estimators': 190,\n",
       " 'max_samples': 0.5,\n",
       " 'max_features': 'sqrt',\n",
       " 'max_depth': 9,\n",
       " 'criterion': 'gini'}"
      ]
     },
     "execution_count": 70,
     "metadata": {},
     "output_type": "execute_result"
    }
   ],
   "source": [
    "\n",
    "param_grid = {\n",
    "    'max_depth' : [4,5,7,9,11],\n",
    "    'max_samples' : [0.05, 0.1, 0.2, 0.5],\n",
    "    'n_estimators' :[i for i in range(10,200,1)],\n",
    "    'criterion':[\"gini\", \"entropy\"],\n",
    "    'max_features':['auto', 'sqrt']\n",
    "}\n",
    "seed=7\n",
    "clf_rfhiper = RandomizedSearchCV(estimator=RandomForestClassifier(),param_distributions=param_grid, scoring = 'accuracy')\n",
    "clf_rfhiper.fit(X_train, y_train)\n",
    "clf_rfhiper.best_params_"
   ]
  },
  {
   "cell_type": "markdown",
   "metadata": {},
   "source": [
    "Vamos a ver que tal funciona el modelo que arroja los mejores parámetros deacuerdo\n",
    "al RandomizedSearchCV"
   ]
  },
  {
   "cell_type": "code",
   "execution_count": 71,
   "metadata": {},
   "outputs": [
    {
     "name": "stdout",
     "output_type": "stream",
     "text": [
      "Porcentaje de datos bien clasificados\n",
      "0.8253968253968254\n",
      "número de datos bien clasificados\n"
     ]
    },
    {
     "data": {
      "text/plain": [
       "52"
      ]
     },
     "execution_count": 71,
     "metadata": {},
     "output_type": "execute_result"
    }
   ],
   "source": [
    "y_clf_rfhiper=clf_rfhiper.predict(X_test)\n",
    "print('Porcentaje de datos bien clasificados')\n",
    "print(accuracy_score(y_test,y_clf_rfhiper))\n",
    "print('número de datos bien clasificados')\n",
    "accuracy_score(y_test,y_clf_rfhiper,normalize=False)"
   ]
  },
  {
   "cell_type": "markdown",
   "metadata": {},
   "source": [
    "Con los párametros de profundidad=9 y el criterio de Gini, obtenemos mejores resultados que con el \n",
    "modelo de árboles de decisión que presentamos antes"
   ]
  },
  {
   "cell_type": "markdown",
   "metadata": {},
   "source": [
    "Ajustando un modelo con Bagging"
   ]
  },
  {
   "cell_type": "code",
   "execution_count": 81,
   "metadata": {},
   "outputs": [
    {
     "data": {
      "text/plain": [
       "BaggingClassifier(base_estimator=DecisionTreeClassifier(max_depth=7),\n",
       "                  n_estimators=62, random_state=7)"
      ]
     },
     "execution_count": 81,
     "metadata": {},
     "output_type": "execute_result"
    }
   ],
   "source": [
    "seed=7\n",
    "cart=tree.DecisionTreeClassifier(max_depth=7)\n",
    "n_trees=62\n",
    "baggingModel=BaggingClassifier(base_estimator=cart,n_estimators=n_trees,random_state=seed)\n",
    "baggingModel.fit(X_train,y_train)"
   ]
  },
  {
   "cell_type": "code",
   "execution_count": 73,
   "metadata": {},
   "outputs": [
    {
     "name": "stdout",
     "output_type": "stream",
     "text": [
      "Porcentaje de datos bien clasificados\n",
      "0.8095238095238095\n",
      "número de datos bien clasificados\n"
     ]
    },
    {
     "data": {
      "text/plain": [
       "51"
      ]
     },
     "execution_count": 73,
     "metadata": {},
     "output_type": "execute_result"
    }
   ],
   "source": [
    "y_bag=baggingModel.predict(X_test)\n",
    "print('Porcentaje de datos bien clasificados')\n",
    "print(accuracy_score(y_test,y_bag))\n",
    "print('número de datos bien clasificados')\n",
    "accuracy_score(y_test,y_bag,normalize=False)"
   ]
  },
  {
   "cell_type": "markdown",
   "metadata": {},
   "source": [
    "Vamos a ver que cambios en el porcentaje de clasificación tenemos si modificamos los\n",
    "hiperparámetros"
   ]
  },
  {
   "cell_type": "code",
   "execution_count": 85,
   "metadata": {},
   "outputs": [
    {
     "data": {
      "text/plain": [
       "{'base_estimator__criterion': 'entropy',\n",
       " 'base_estimator__max_depth': 7,\n",
       " 'n_estimators': 44}"
      ]
     },
     "execution_count": 85,
     "metadata": {},
     "output_type": "execute_result"
    }
   ],
   "source": [
    "param_grid = {\n",
    "    'base_estimator__max_depth' : [4,5,7,9,11],\n",
    "    #'max_samples' : [0.05, 0.1, 0.2, 0.5],\n",
    "    'n_estimators' :[i for i in range(10,100,1)],\n",
    "    'base_estimator__criterion':[\"gini\", \"entropy\"],\n",
    "    #'max_features':[0.5,1]\n",
    "}\n",
    "seed=7\n",
    "clf = GridSearchCV(BaggingClassifier(tree.DecisionTreeClassifier()),param_grid, scoring = 'accuracy')\n",
    "clf.fit(X_train, y_train)\n",
    "clf.best_params_"
   ]
  },
  {
   "cell_type": "markdown",
   "metadata": {},
   "source": [
    "Veamos los resultados que obtenemos utilizando los parámetros utilizando GridSearchCV con el\n",
    "clasificador de Bagging"
   ]
  },
  {
   "cell_type": "code",
   "execution_count": 86,
   "metadata": {},
   "outputs": [
    {
     "name": "stdout",
     "output_type": "stream",
     "text": [
      "Porcentaje de datos bien clasificados\n",
      "0.8253968253968254\n",
      "número de datos bien clasificados\n"
     ]
    },
    {
     "data": {
      "text/plain": [
       "52"
      ]
     },
     "execution_count": 86,
     "metadata": {},
     "output_type": "execute_result"
    }
   ],
   "source": [
    "y_bag=clf.predict(X_test)\n",
    "print('Porcentaje de datos bien clasificados')\n",
    "print(accuracy_score(y_test,y_bag))\n",
    "print('número de datos bien clasificados')\n",
    "accuracy_score(y_test,y_bag,normalize=False)"
   ]
  },
  {
   "cell_type": "markdown",
   "metadata": {},
   "source": [
    "Utilizando Grid Search para optimizar los parámetros del modelo obtenemos que\n",
    "usando el criterio de entropía y una profundidad máxima de 7 el porcentaje de observaciones mejor clasificadas crece, de 80 a 82 por ciento, es decir solo marginalmente."
   ]
  },
  {
   "cell_type": "markdown",
   "metadata": {},
   "source": [
    "Modelo de Boosting"
   ]
  },
  {
   "cell_type": "code",
   "execution_count": 87,
   "metadata": {},
   "outputs": [
    {
     "data": {
      "text/plain": [
       "AdaBoostClassifier(base_estimator=DecisionTreeClassifier(max_depth=7),\n",
       "                   n_estimators=100, random_state=7)"
      ]
     },
     "execution_count": 87,
     "metadata": {},
     "output_type": "execute_result"
    }
   ],
   "source": [
    "seed=7\n",
    "n_trees=100\n",
    "#usamos de base el modelo de árboles de decisión\n",
    "# utilizado con anterioridad (cart)\n",
    "boostingModel = AdaBoostClassifier(base_estimator=cart, n_estimators=n_trees,random_state=seed)\n",
    "boostingModel.fit(X_train,y_train)"
   ]
  },
  {
   "cell_type": "code",
   "execution_count": 88,
   "metadata": {},
   "outputs": [
    {
     "name": "stdout",
     "output_type": "stream",
     "text": [
      "Porcentaje de datos bien clasificados\n",
      "0.6825396825396826\n",
      "número de datos bien clasificados\n"
     ]
    },
    {
     "data": {
      "text/plain": [
       "43"
      ]
     },
     "execution_count": 88,
     "metadata": {},
     "output_type": "execute_result"
    }
   ],
   "source": [
    "y_boost=boostingModel.predict(X_test)\n",
    "print('Porcentaje de datos bien clasificados')\n",
    "print(accuracy_score(y_test,y_boost))\n",
    "print('número de datos bien clasificados')\n",
    "accuracy_score(y_test,y_boost,normalize=False)"
   ]
  },
  {
   "cell_type": "markdown",
   "metadata": {},
   "source": [
    "Obtenemos un porcentaje de datos bien clasificados del 0.68 por ciento. Con una profundidad de 7 y 100 estimadores."
   ]
  },
  {
   "cell_type": "markdown",
   "metadata": {},
   "source": [
    "Ajustando hiper parámetros:"
   ]
  },
  {
   "cell_type": "code",
   "execution_count": 91,
   "metadata": {},
   "outputs": [
    {
     "data": {
      "text/plain": [
       "{'base_estimator__max_depth': 9, 'learning_rate': 1, 'n_estimators': 48}"
      ]
     },
     "execution_count": 91,
     "metadata": {},
     "output_type": "execute_result"
    }
   ],
   "source": [
    "seed=7\n",
    "param_grid = {\n",
    "    'base_estimator__max_depth' : [4,5,7,8,9,10],\n",
    "    'n_estimators' :[i for i in range(10,50,1)],\n",
    "    'learning_rate':[0.1,0.5,1]\n",
    "}\n",
    "\n",
    "boostingModelHiper = GridSearchCV(AdaBoostClassifier(tree.DecisionTreeClassifier(ccp_alpha= 0.015)),param_grid, scoring = 'accuracy')\n",
    "boostingModelHiper.fit(X_train, y_train)\n",
    "boostingModelHiper.best_params_"
   ]
  },
  {
   "cell_type": "code",
   "execution_count": 94,
   "metadata": {},
   "outputs": [
    {
     "name": "stdout",
     "output_type": "stream",
     "text": [
      "Porcentaje de datos bien clasificados\n",
      "0.8095238095238095\n",
      "número de datos bien clasificados\n"
     ]
    },
    {
     "data": {
      "text/plain": [
       "51"
      ]
     },
     "execution_count": 94,
     "metadata": {},
     "output_type": "execute_result"
    }
   ],
   "source": [
    "y_boosthip=boostingModelHiper.predict(X_test)\n",
    "print('Porcentaje de datos bien clasificados')\n",
    "print(accuracy_score(y_test,y_boosthip))\n",
    "print('número de datos bien clasificados')\n",
    "accuracy_score(y_test,y_boosthip,normalize=False)"
   ]
  },
  {
   "cell_type": "markdown",
   "metadata": {},
   "source": [
    "Con una profundidad de 9, una tasa de aprendizaje de 1 y 48 estimadores, tenemos un porcentaje de datos bien clasificados\n",
    "del 80 por ciento. Lo que es mejor comparado con nuestro modelo original.\n"
   ]
  },
  {
   "cell_type": "markdown",
   "metadata": {},
   "source": [
    "Obtenemos la matriz de confusión"
   ]
  },
  {
   "cell_type": "code",
   "execution_count": 97,
   "metadata": {},
   "outputs": [
    {
     "data": {
      "text/plain": [
       "array([[0.87096774, 0.25      ],\n",
       "       [0.12903226, 0.75      ]])"
      ]
     },
     "execution_count": 97,
     "metadata": {},
     "output_type": "execute_result"
    },
    {
     "data": {
      "image/png": "[encoded data removed]",
      "text/plain": [
       "<Figure size 432x288 with 2 Axes>"
      ]
     },
     "metadata": {
      "needs_background": "light"
     },
     "output_type": "display_data"
    }
   ],
   "source": [
    "disp=metrics.plot_confusion_matrix(boostingModelHiper, X_test, y_test,normalize=\"pred\")\n",
    "disp.ax_.set_title(\"Matriz de Confusión\")\n",
    "disp.confusion_matrix"
   ]
  },
  {
   "cell_type": "markdown",
   "metadata": {},
   "source": [
    "Vemos en la matriz de confusión que el modelo clasifica mejor a las observaciones que son minas (0.87 por ciento) y falla un poco más al clasificar Rocas (0.75 por ciento), pero en general clasifica adecuadamente."
   ]
  },
  {
   "cell_type": "code",
   "execution_count": 108,
   "metadata": {},
   "outputs": [],
   "source": [
    "#calculo de las probabilidades y el AUC\n",
    "probs = boostingModelHiper.predict_proba(X_test)\n",
    "preds = probs[:,1]\n",
    "fpr, tpr, threshold = metrics.roc_curve(y_test, preds, pos_label='R')\n",
    "roc_auc = metrics.auc(fpr, tpr)"
   ]
  },
  {
   "cell_type": "markdown",
   "metadata": {},
   "source": [
    "Obtenemos la curva ROC"
   ]
  },
  {
   "cell_type": "code",
   "execution_count": 109,
   "metadata": {},
   "outputs": [
    {
     "data": {
      "image/png": "[encoded data removed]",
      "text/plain": [
       "<Figure size 432x288 with 1 Axes>"
      ]
     },
     "metadata": {
      "needs_background": "light"
     },
     "output_type": "display_data"
    }
   ],
   "source": [
    "plt.figure()\n",
    "plt.plot(fpr, tpr, label='GridSearchCV (area = %0.2f)' % roc_auc)\n",
    "plt.plot([0, 1], [0, 1],'r--')\n",
    "plt.xlim([0.0, 1.0])\n",
    "plt.ylim([0.0, 1.05])\n",
    "plt.xlabel('Tasa de falsos positivos')\n",
    "plt.ylabel('Tasa de verdaderos positivos')\n",
    "plt.title('curva ROC')\n",
    "plt.legend(loc=\"lower right\")\n",
    "plt.savefig('Log_ROC')\n",
    "plt.show()"
   ]
  },
  {
   "cell_type": "code",
   "execution_count": null,
   "metadata": {},
   "outputs": [],
   "source": []
  }
 ],
 "metadata": {
  "kernelspec": {
   "display_name": "Python 3",
   "language": "python",
   "name": "python3"
  },
  "language_info": {
   "codemirror_mode": {
    "name": "ipython",
    "version": 3
   },
   "file_extension": ".py",
   "mimetype": "text/x-python",
   "name": "python",
   "nbconvert_exporter": "python",
   "pygments_lexer": "ipython3",
   "version": "3.7.3"
  }
 },
 "nbformat": 4,
 "nbformat_minor": 4
}
